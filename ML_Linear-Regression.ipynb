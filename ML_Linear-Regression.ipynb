{
 "cells": [
  {
   "cell_type": "markdown",
   "metadata": {},
   "source": [
    "# Linear Regression - Predicting House Sales Price\n",
    "\n",
    "\n",
    "https://www.kaggle.com/c/house-prices-advanced-regression-techniques"
   ]
  },
  {
   "cell_type": "markdown",
   "metadata": {},
   "source": [
    "For this study we'll using this dataset to predict the sales price of a house.\n",
    "For this purpose the ML algorithm used is Linear Regression."
   ]
  },
  {
   "cell_type": "markdown",
   "metadata": {},
   "source": [
    "### Dataset Import"
   ]
  },
  {
   "cell_type": "code",
   "execution_count": 1,
   "metadata": {},
   "outputs": [],
   "source": [
    "import pandas as pd\n",
    "import numpy as np\n",
    "\n",
    "import matplotlib.pyplot as plt\n",
    "import matplotlib as mpl\n",
    "import seaborn as sns\n",
    "\n",
    "import statsmodels.api as sm\n",
    "from sklearn.preprocessing import PowerTransformer\n",
    "\n",
    "from sklearn import linear_model\n",
    "from sklearn.metrics import r2_score\n",
    "from sklearn.pipeline import make_pipeline\n",
    "from sklearn.preprocessing import StandardScaler\n",
    "\n",
    "import warnings\n",
    "warnings.filterwarnings(\"ignore\")\n",
    "%matplotlib inline"
   ]
  },
  {
   "cell_type": "code",
   "execution_count": 2,
   "metadata": {},
   "outputs": [
    {
     "data": {
      "text/html": [
       "<div>\n",
       "<style scoped>\n",
       "    .dataframe tbody tr th:only-of-type {\n",
       "        vertical-align: middle;\n",
       "    }\n",
       "\n",
       "    .dataframe tbody tr th {\n",
       "        vertical-align: top;\n",
       "    }\n",
       "\n",
       "    .dataframe thead th {\n",
       "        text-align: right;\n",
       "    }\n",
       "</style>\n",
       "<table border=\"1\" class=\"dataframe\">\n",
       "  <thead>\n",
       "    <tr style=\"text-align: right;\">\n",
       "      <th></th>\n",
       "      <th>Id</th>\n",
       "      <th>MSSubClass</th>\n",
       "      <th>MSZoning</th>\n",
       "      <th>LotFrontage</th>\n",
       "      <th>LotArea</th>\n",
       "      <th>Street</th>\n",
       "      <th>Alley</th>\n",
       "      <th>LotShape</th>\n",
       "      <th>LandContour</th>\n",
       "      <th>Utilities</th>\n",
       "      <th>...</th>\n",
       "      <th>PoolArea</th>\n",
       "      <th>PoolQC</th>\n",
       "      <th>Fence</th>\n",
       "      <th>MiscFeature</th>\n",
       "      <th>MiscVal</th>\n",
       "      <th>MoSold</th>\n",
       "      <th>YrSold</th>\n",
       "      <th>SaleType</th>\n",
       "      <th>SaleCondition</th>\n",
       "      <th>SalePrice</th>\n",
       "    </tr>\n",
       "  </thead>\n",
       "  <tbody>\n",
       "    <tr>\n",
       "      <th>0</th>\n",
       "      <td>1</td>\n",
       "      <td>60</td>\n",
       "      <td>RL</td>\n",
       "      <td>65.0</td>\n",
       "      <td>8450</td>\n",
       "      <td>Pave</td>\n",
       "      <td>NaN</td>\n",
       "      <td>Reg</td>\n",
       "      <td>Lvl</td>\n",
       "      <td>AllPub</td>\n",
       "      <td>...</td>\n",
       "      <td>0</td>\n",
       "      <td>NaN</td>\n",
       "      <td>NaN</td>\n",
       "      <td>NaN</td>\n",
       "      <td>0</td>\n",
       "      <td>2</td>\n",
       "      <td>2008</td>\n",
       "      <td>WD</td>\n",
       "      <td>Normal</td>\n",
       "      <td>208500</td>\n",
       "    </tr>\n",
       "    <tr>\n",
       "      <th>1</th>\n",
       "      <td>2</td>\n",
       "      <td>20</td>\n",
       "      <td>RL</td>\n",
       "      <td>80.0</td>\n",
       "      <td>9600</td>\n",
       "      <td>Pave</td>\n",
       "      <td>NaN</td>\n",
       "      <td>Reg</td>\n",
       "      <td>Lvl</td>\n",
       "      <td>AllPub</td>\n",
       "      <td>...</td>\n",
       "      <td>0</td>\n",
       "      <td>NaN</td>\n",
       "      <td>NaN</td>\n",
       "      <td>NaN</td>\n",
       "      <td>0</td>\n",
       "      <td>5</td>\n",
       "      <td>2007</td>\n",
       "      <td>WD</td>\n",
       "      <td>Normal</td>\n",
       "      <td>181500</td>\n",
       "    </tr>\n",
       "    <tr>\n",
       "      <th>2</th>\n",
       "      <td>3</td>\n",
       "      <td>60</td>\n",
       "      <td>RL</td>\n",
       "      <td>68.0</td>\n",
       "      <td>11250</td>\n",
       "      <td>Pave</td>\n",
       "      <td>NaN</td>\n",
       "      <td>IR1</td>\n",
       "      <td>Lvl</td>\n",
       "      <td>AllPub</td>\n",
       "      <td>...</td>\n",
       "      <td>0</td>\n",
       "      <td>NaN</td>\n",
       "      <td>NaN</td>\n",
       "      <td>NaN</td>\n",
       "      <td>0</td>\n",
       "      <td>9</td>\n",
       "      <td>2008</td>\n",
       "      <td>WD</td>\n",
       "      <td>Normal</td>\n",
       "      <td>223500</td>\n",
       "    </tr>\n",
       "    <tr>\n",
       "      <th>3</th>\n",
       "      <td>4</td>\n",
       "      <td>70</td>\n",
       "      <td>RL</td>\n",
       "      <td>60.0</td>\n",
       "      <td>9550</td>\n",
       "      <td>Pave</td>\n",
       "      <td>NaN</td>\n",
       "      <td>IR1</td>\n",
       "      <td>Lvl</td>\n",
       "      <td>AllPub</td>\n",
       "      <td>...</td>\n",
       "      <td>0</td>\n",
       "      <td>NaN</td>\n",
       "      <td>NaN</td>\n",
       "      <td>NaN</td>\n",
       "      <td>0</td>\n",
       "      <td>2</td>\n",
       "      <td>2006</td>\n",
       "      <td>WD</td>\n",
       "      <td>Abnorml</td>\n",
       "      <td>140000</td>\n",
       "    </tr>\n",
       "    <tr>\n",
       "      <th>4</th>\n",
       "      <td>5</td>\n",
       "      <td>60</td>\n",
       "      <td>RL</td>\n",
       "      <td>84.0</td>\n",
       "      <td>14260</td>\n",
       "      <td>Pave</td>\n",
       "      <td>NaN</td>\n",
       "      <td>IR1</td>\n",
       "      <td>Lvl</td>\n",
       "      <td>AllPub</td>\n",
       "      <td>...</td>\n",
       "      <td>0</td>\n",
       "      <td>NaN</td>\n",
       "      <td>NaN</td>\n",
       "      <td>NaN</td>\n",
       "      <td>0</td>\n",
       "      <td>12</td>\n",
       "      <td>2008</td>\n",
       "      <td>WD</td>\n",
       "      <td>Normal</td>\n",
       "      <td>250000</td>\n",
       "    </tr>\n",
       "  </tbody>\n",
       "</table>\n",
       "<p>5 rows × 81 columns</p>\n",
       "</div>"
      ],
      "text/plain": [
       "   Id  MSSubClass MSZoning  LotFrontage  LotArea Street Alley LotShape  \\\n",
       "0   1          60       RL         65.0     8450   Pave   NaN      Reg   \n",
       "1   2          20       RL         80.0     9600   Pave   NaN      Reg   \n",
       "2   3          60       RL         68.0    11250   Pave   NaN      IR1   \n",
       "3   4          70       RL         60.0     9550   Pave   NaN      IR1   \n",
       "4   5          60       RL         84.0    14260   Pave   NaN      IR1   \n",
       "\n",
       "  LandContour Utilities  ... PoolArea PoolQC Fence MiscFeature MiscVal MoSold  \\\n",
       "0         Lvl    AllPub  ...        0    NaN   NaN         NaN       0      2   \n",
       "1         Lvl    AllPub  ...        0    NaN   NaN         NaN       0      5   \n",
       "2         Lvl    AllPub  ...        0    NaN   NaN         NaN       0      9   \n",
       "3         Lvl    AllPub  ...        0    NaN   NaN         NaN       0      2   \n",
       "4         Lvl    AllPub  ...        0    NaN   NaN         NaN       0     12   \n",
       "\n",
       "  YrSold  SaleType  SaleCondition  SalePrice  \n",
       "0   2008        WD         Normal     208500  \n",
       "1   2007        WD         Normal     181500  \n",
       "2   2008        WD         Normal     223500  \n",
       "3   2006        WD        Abnorml     140000  \n",
       "4   2008        WD         Normal     250000  \n",
       "\n",
       "[5 rows x 81 columns]"
      ]
     },
     "execution_count": 2,
     "metadata": {},
     "output_type": "execute_result"
    }
   ],
   "source": [
    "arquivo_01 = 'train.csv'\n",
    "arquivo_02 = 'test.csv'\n",
    "\n",
    "df_train = pd.read_csv(arquivo_01)\n",
    "df_train.head()"
   ]
  },
  {
   "cell_type": "markdown",
   "metadata": {},
   "source": [
    "## Exploring Data"
   ]
  },
  {
   "cell_type": "code",
   "execution_count": 3,
   "metadata": {},
   "outputs": [
    {
     "name": "stdout",
     "output_type": "stream",
     "text": [
      "<class 'pandas.core.frame.DataFrame'>\n",
      "RangeIndex: 1460 entries, 0 to 1459\n",
      "Data columns (total 81 columns):\n",
      "Id               1460 non-null int64\n",
      "MSSubClass       1460 non-null int64\n",
      "MSZoning         1460 non-null object\n",
      "LotFrontage      1201 non-null float64\n",
      "LotArea          1460 non-null int64\n",
      "Street           1460 non-null object\n",
      "Alley            91 non-null object\n",
      "LotShape         1460 non-null object\n",
      "LandContour      1460 non-null object\n",
      "Utilities        1460 non-null object\n",
      "LotConfig        1460 non-null object\n",
      "LandSlope        1460 non-null object\n",
      "Neighborhood     1460 non-null object\n",
      "Condition1       1460 non-null object\n",
      "Condition2       1460 non-null object\n",
      "BldgType         1460 non-null object\n",
      "HouseStyle       1460 non-null object\n",
      "OverallQual      1460 non-null int64\n",
      "OverallCond      1460 non-null int64\n",
      "YearBuilt        1460 non-null int64\n",
      "YearRemodAdd     1460 non-null int64\n",
      "RoofStyle        1460 non-null object\n",
      "RoofMatl         1460 non-null object\n",
      "Exterior1st      1460 non-null object\n",
      "Exterior2nd      1460 non-null object\n",
      "MasVnrType       1452 non-null object\n",
      "MasVnrArea       1452 non-null float64\n",
      "ExterQual        1460 non-null object\n",
      "ExterCond        1460 non-null object\n",
      "Foundation       1460 non-null object\n",
      "BsmtQual         1423 non-null object\n",
      "BsmtCond         1423 non-null object\n",
      "BsmtExposure     1422 non-null object\n",
      "BsmtFinType1     1423 non-null object\n",
      "BsmtFinSF1       1460 non-null int64\n",
      "BsmtFinType2     1422 non-null object\n",
      "BsmtFinSF2       1460 non-null int64\n",
      "BsmtUnfSF        1460 non-null int64\n",
      "TotalBsmtSF      1460 non-null int64\n",
      "Heating          1460 non-null object\n",
      "HeatingQC        1460 non-null object\n",
      "CentralAir       1460 non-null object\n",
      "Electrical       1459 non-null object\n",
      "1stFlrSF         1460 non-null int64\n",
      "2ndFlrSF         1460 non-null int64\n",
      "LowQualFinSF     1460 non-null int64\n",
      "GrLivArea        1460 non-null int64\n",
      "BsmtFullBath     1460 non-null int64\n",
      "BsmtHalfBath     1460 non-null int64\n",
      "FullBath         1460 non-null int64\n",
      "HalfBath         1460 non-null int64\n",
      "BedroomAbvGr     1460 non-null int64\n",
      "KitchenAbvGr     1460 non-null int64\n",
      "KitchenQual      1460 non-null object\n",
      "TotRmsAbvGrd     1460 non-null int64\n",
      "Functional       1460 non-null object\n",
      "Fireplaces       1460 non-null int64\n",
      "FireplaceQu      770 non-null object\n",
      "GarageType       1379 non-null object\n",
      "GarageYrBlt      1379 non-null float64\n",
      "GarageFinish     1379 non-null object\n",
      "GarageCars       1460 non-null int64\n",
      "GarageArea       1460 non-null int64\n",
      "GarageQual       1379 non-null object\n",
      "GarageCond       1379 non-null object\n",
      "PavedDrive       1460 non-null object\n",
      "WoodDeckSF       1460 non-null int64\n",
      "OpenPorchSF      1460 non-null int64\n",
      "EnclosedPorch    1460 non-null int64\n",
      "3SsnPorch        1460 non-null int64\n",
      "ScreenPorch      1460 non-null int64\n",
      "PoolArea         1460 non-null int64\n",
      "PoolQC           7 non-null object\n",
      "Fence            281 non-null object\n",
      "MiscFeature      54 non-null object\n",
      "MiscVal          1460 non-null int64\n",
      "MoSold           1460 non-null int64\n",
      "YrSold           1460 non-null int64\n",
      "SaleType         1460 non-null object\n",
      "SaleCondition    1460 non-null object\n",
      "SalePrice        1460 non-null int64\n",
      "dtypes: float64(3), int64(35), object(43)\n",
      "memory usage: 924.0+ KB\n"
     ]
    }
   ],
   "source": [
    "df_train.info()"
   ]
  },
  {
   "cell_type": "raw",
   "metadata": {},
   "source": [
    "Iremos utilizar neste exercício apenas as features continuas"
   ]
  },
  {
   "cell_type": "code",
   "execution_count": 4,
   "metadata": {},
   "outputs": [],
   "source": [
    "continuous_features = ['LotFrontage', 'LotArea', 'MasVnrArea', 'TotalBsmtSF', '1stFlrSF', '2ndFlrSF', 'LowQualFinSF', 'GrLivArea', 'BsmtFullBath',\n",
    "                      'BsmtHalfBath', 'FullBath', 'HalfBath', 'TotRmsAbvGrd', 'Fireplaces', 'GarageCars', 'GarageArea',\n",
    "                      'WoodDeckSF', 'OpenPorchSF', '3SsnPorch', 'ScreenPorch', 'PoolArea', 'MiscVal', 'SalePrice']"
   ]
  },
  {
   "cell_type": "code",
   "execution_count": 5,
   "metadata": {},
   "outputs": [
    {
     "data": {
      "text/html": [
       "<div>\n",
       "<style scoped>\n",
       "    .dataframe tbody tr th:only-of-type {\n",
       "        vertical-align: middle;\n",
       "    }\n",
       "\n",
       "    .dataframe tbody tr th {\n",
       "        vertical-align: top;\n",
       "    }\n",
       "\n",
       "    .dataframe thead th {\n",
       "        text-align: right;\n",
       "    }\n",
       "</style>\n",
       "<table border=\"1\" class=\"dataframe\">\n",
       "  <thead>\n",
       "    <tr style=\"text-align: right;\">\n",
       "      <th></th>\n",
       "      <th>LotFrontage</th>\n",
       "      <th>LotArea</th>\n",
       "      <th>MasVnrArea</th>\n",
       "      <th>TotalBsmtSF</th>\n",
       "      <th>1stFlrSF</th>\n",
       "      <th>2ndFlrSF</th>\n",
       "      <th>LowQualFinSF</th>\n",
       "      <th>GrLivArea</th>\n",
       "      <th>BsmtFullBath</th>\n",
       "      <th>BsmtHalfBath</th>\n",
       "      <th>...</th>\n",
       "      <th>Fireplaces</th>\n",
       "      <th>GarageCars</th>\n",
       "      <th>GarageArea</th>\n",
       "      <th>WoodDeckSF</th>\n",
       "      <th>OpenPorchSF</th>\n",
       "      <th>3SsnPorch</th>\n",
       "      <th>ScreenPorch</th>\n",
       "      <th>PoolArea</th>\n",
       "      <th>MiscVal</th>\n",
       "      <th>SalePrice</th>\n",
       "    </tr>\n",
       "  </thead>\n",
       "  <tbody>\n",
       "    <tr>\n",
       "      <th>0</th>\n",
       "      <td>65.0</td>\n",
       "      <td>8450</td>\n",
       "      <td>196.0</td>\n",
       "      <td>856</td>\n",
       "      <td>856</td>\n",
       "      <td>854</td>\n",
       "      <td>0</td>\n",
       "      <td>1710</td>\n",
       "      <td>1</td>\n",
       "      <td>0</td>\n",
       "      <td>...</td>\n",
       "      <td>0</td>\n",
       "      <td>2</td>\n",
       "      <td>548</td>\n",
       "      <td>0</td>\n",
       "      <td>61</td>\n",
       "      <td>0</td>\n",
       "      <td>0</td>\n",
       "      <td>0</td>\n",
       "      <td>0</td>\n",
       "      <td>208500</td>\n",
       "    </tr>\n",
       "    <tr>\n",
       "      <th>1</th>\n",
       "      <td>80.0</td>\n",
       "      <td>9600</td>\n",
       "      <td>0.0</td>\n",
       "      <td>1262</td>\n",
       "      <td>1262</td>\n",
       "      <td>0</td>\n",
       "      <td>0</td>\n",
       "      <td>1262</td>\n",
       "      <td>0</td>\n",
       "      <td>1</td>\n",
       "      <td>...</td>\n",
       "      <td>1</td>\n",
       "      <td>2</td>\n",
       "      <td>460</td>\n",
       "      <td>298</td>\n",
       "      <td>0</td>\n",
       "      <td>0</td>\n",
       "      <td>0</td>\n",
       "      <td>0</td>\n",
       "      <td>0</td>\n",
       "      <td>181500</td>\n",
       "    </tr>\n",
       "    <tr>\n",
       "      <th>2</th>\n",
       "      <td>68.0</td>\n",
       "      <td>11250</td>\n",
       "      <td>162.0</td>\n",
       "      <td>920</td>\n",
       "      <td>920</td>\n",
       "      <td>866</td>\n",
       "      <td>0</td>\n",
       "      <td>1786</td>\n",
       "      <td>1</td>\n",
       "      <td>0</td>\n",
       "      <td>...</td>\n",
       "      <td>1</td>\n",
       "      <td>2</td>\n",
       "      <td>608</td>\n",
       "      <td>0</td>\n",
       "      <td>42</td>\n",
       "      <td>0</td>\n",
       "      <td>0</td>\n",
       "      <td>0</td>\n",
       "      <td>0</td>\n",
       "      <td>223500</td>\n",
       "    </tr>\n",
       "    <tr>\n",
       "      <th>3</th>\n",
       "      <td>60.0</td>\n",
       "      <td>9550</td>\n",
       "      <td>0.0</td>\n",
       "      <td>756</td>\n",
       "      <td>961</td>\n",
       "      <td>756</td>\n",
       "      <td>0</td>\n",
       "      <td>1717</td>\n",
       "      <td>1</td>\n",
       "      <td>0</td>\n",
       "      <td>...</td>\n",
       "      <td>1</td>\n",
       "      <td>3</td>\n",
       "      <td>642</td>\n",
       "      <td>0</td>\n",
       "      <td>35</td>\n",
       "      <td>0</td>\n",
       "      <td>0</td>\n",
       "      <td>0</td>\n",
       "      <td>0</td>\n",
       "      <td>140000</td>\n",
       "    </tr>\n",
       "    <tr>\n",
       "      <th>4</th>\n",
       "      <td>84.0</td>\n",
       "      <td>14260</td>\n",
       "      <td>350.0</td>\n",
       "      <td>1145</td>\n",
       "      <td>1145</td>\n",
       "      <td>1053</td>\n",
       "      <td>0</td>\n",
       "      <td>2198</td>\n",
       "      <td>1</td>\n",
       "      <td>0</td>\n",
       "      <td>...</td>\n",
       "      <td>1</td>\n",
       "      <td>3</td>\n",
       "      <td>836</td>\n",
       "      <td>192</td>\n",
       "      <td>84</td>\n",
       "      <td>0</td>\n",
       "      <td>0</td>\n",
       "      <td>0</td>\n",
       "      <td>0</td>\n",
       "      <td>250000</td>\n",
       "    </tr>\n",
       "  </tbody>\n",
       "</table>\n",
       "<p>5 rows × 23 columns</p>\n",
       "</div>"
      ],
      "text/plain": [
       "   LotFrontage  LotArea  MasVnrArea  TotalBsmtSF  1stFlrSF  2ndFlrSF  \\\n",
       "0         65.0     8450       196.0          856       856       854   \n",
       "1         80.0     9600         0.0         1262      1262         0   \n",
       "2         68.0    11250       162.0          920       920       866   \n",
       "3         60.0     9550         0.0          756       961       756   \n",
       "4         84.0    14260       350.0         1145      1145      1053   \n",
       "\n",
       "   LowQualFinSF  GrLivArea  BsmtFullBath  BsmtHalfBath  ...  Fireplaces  \\\n",
       "0             0       1710             1             0  ...           0   \n",
       "1             0       1262             0             1  ...           1   \n",
       "2             0       1786             1             0  ...           1   \n",
       "3             0       1717             1             0  ...           1   \n",
       "4             0       2198             1             0  ...           1   \n",
       "\n",
       "   GarageCars  GarageArea  WoodDeckSF  OpenPorchSF  3SsnPorch  ScreenPorch  \\\n",
       "0           2         548           0           61          0            0   \n",
       "1           2         460         298            0          0            0   \n",
       "2           2         608           0           42          0            0   \n",
       "3           3         642           0           35          0            0   \n",
       "4           3         836         192           84          0            0   \n",
       "\n",
       "   PoolArea  MiscVal  SalePrice  \n",
       "0         0        0     208500  \n",
       "1         0        0     181500  \n",
       "2         0        0     223500  \n",
       "3         0        0     140000  \n",
       "4         0        0     250000  \n",
       "\n",
       "[5 rows x 23 columns]"
      ]
     },
     "execution_count": 5,
     "metadata": {},
     "output_type": "execute_result"
    }
   ],
   "source": [
    "df_cont = df_train[continuous_features]\n",
    "df_cont.head()"
   ]
  },
  {
   "cell_type": "code",
   "execution_count": 6,
   "metadata": {},
   "outputs": [
    {
     "data": {
      "text/html": [
       "<div>\n",
       "<style scoped>\n",
       "    .dataframe tbody tr th:only-of-type {\n",
       "        vertical-align: middle;\n",
       "    }\n",
       "\n",
       "    .dataframe tbody tr th {\n",
       "        vertical-align: top;\n",
       "    }\n",
       "\n",
       "    .dataframe thead th {\n",
       "        text-align: right;\n",
       "    }\n",
       "</style>\n",
       "<table border=\"1\" class=\"dataframe\">\n",
       "  <thead>\n",
       "    <tr style=\"text-align: right;\">\n",
       "      <th></th>\n",
       "      <th>LotFrontage</th>\n",
       "      <th>LotArea</th>\n",
       "      <th>MasVnrArea</th>\n",
       "      <th>TotalBsmtSF</th>\n",
       "      <th>1stFlrSF</th>\n",
       "      <th>2ndFlrSF</th>\n",
       "      <th>LowQualFinSF</th>\n",
       "      <th>GrLivArea</th>\n",
       "      <th>BsmtFullBath</th>\n",
       "      <th>BsmtHalfBath</th>\n",
       "      <th>...</th>\n",
       "      <th>Fireplaces</th>\n",
       "      <th>GarageCars</th>\n",
       "      <th>GarageArea</th>\n",
       "      <th>WoodDeckSF</th>\n",
       "      <th>OpenPorchSF</th>\n",
       "      <th>3SsnPorch</th>\n",
       "      <th>ScreenPorch</th>\n",
       "      <th>PoolArea</th>\n",
       "      <th>MiscVal</th>\n",
       "      <th>SalePrice</th>\n",
       "    </tr>\n",
       "  </thead>\n",
       "  <tbody>\n",
       "    <tr>\n",
       "      <th>count</th>\n",
       "      <td>1201.000000</td>\n",
       "      <td>1460.000000</td>\n",
       "      <td>1452.000000</td>\n",
       "      <td>1460.000000</td>\n",
       "      <td>1460.000000</td>\n",
       "      <td>1460.000000</td>\n",
       "      <td>1460.000000</td>\n",
       "      <td>1460.000000</td>\n",
       "      <td>1460.000000</td>\n",
       "      <td>1460.000000</td>\n",
       "      <td>...</td>\n",
       "      <td>1460.000000</td>\n",
       "      <td>1460.000000</td>\n",
       "      <td>1460.000000</td>\n",
       "      <td>1460.000000</td>\n",
       "      <td>1460.000000</td>\n",
       "      <td>1460.000000</td>\n",
       "      <td>1460.000000</td>\n",
       "      <td>1460.000000</td>\n",
       "      <td>1460.000000</td>\n",
       "      <td>1460.000000</td>\n",
       "    </tr>\n",
       "    <tr>\n",
       "      <th>mean</th>\n",
       "      <td>70.049958</td>\n",
       "      <td>10516.828082</td>\n",
       "      <td>103.685262</td>\n",
       "      <td>1057.429452</td>\n",
       "      <td>1162.626712</td>\n",
       "      <td>346.992466</td>\n",
       "      <td>5.844521</td>\n",
       "      <td>1515.463699</td>\n",
       "      <td>0.425342</td>\n",
       "      <td>0.057534</td>\n",
       "      <td>...</td>\n",
       "      <td>0.613014</td>\n",
       "      <td>1.767123</td>\n",
       "      <td>472.980137</td>\n",
       "      <td>94.244521</td>\n",
       "      <td>46.660274</td>\n",
       "      <td>3.409589</td>\n",
       "      <td>15.060959</td>\n",
       "      <td>2.758904</td>\n",
       "      <td>43.489041</td>\n",
       "      <td>180921.195890</td>\n",
       "    </tr>\n",
       "    <tr>\n",
       "      <th>std</th>\n",
       "      <td>24.284752</td>\n",
       "      <td>9981.264932</td>\n",
       "      <td>181.066207</td>\n",
       "      <td>438.705324</td>\n",
       "      <td>386.587738</td>\n",
       "      <td>436.528436</td>\n",
       "      <td>48.623081</td>\n",
       "      <td>525.480383</td>\n",
       "      <td>0.518911</td>\n",
       "      <td>0.238753</td>\n",
       "      <td>...</td>\n",
       "      <td>0.644666</td>\n",
       "      <td>0.747315</td>\n",
       "      <td>213.804841</td>\n",
       "      <td>125.338794</td>\n",
       "      <td>66.256028</td>\n",
       "      <td>29.317331</td>\n",
       "      <td>55.757415</td>\n",
       "      <td>40.177307</td>\n",
       "      <td>496.123024</td>\n",
       "      <td>79442.502883</td>\n",
       "    </tr>\n",
       "    <tr>\n",
       "      <th>min</th>\n",
       "      <td>21.000000</td>\n",
       "      <td>1300.000000</td>\n",
       "      <td>0.000000</td>\n",
       "      <td>0.000000</td>\n",
       "      <td>334.000000</td>\n",
       "      <td>0.000000</td>\n",
       "      <td>0.000000</td>\n",
       "      <td>334.000000</td>\n",
       "      <td>0.000000</td>\n",
       "      <td>0.000000</td>\n",
       "      <td>...</td>\n",
       "      <td>0.000000</td>\n",
       "      <td>0.000000</td>\n",
       "      <td>0.000000</td>\n",
       "      <td>0.000000</td>\n",
       "      <td>0.000000</td>\n",
       "      <td>0.000000</td>\n",
       "      <td>0.000000</td>\n",
       "      <td>0.000000</td>\n",
       "      <td>0.000000</td>\n",
       "      <td>34900.000000</td>\n",
       "    </tr>\n",
       "    <tr>\n",
       "      <th>25%</th>\n",
       "      <td>59.000000</td>\n",
       "      <td>7553.500000</td>\n",
       "      <td>0.000000</td>\n",
       "      <td>795.750000</td>\n",
       "      <td>882.000000</td>\n",
       "      <td>0.000000</td>\n",
       "      <td>0.000000</td>\n",
       "      <td>1129.500000</td>\n",
       "      <td>0.000000</td>\n",
       "      <td>0.000000</td>\n",
       "      <td>...</td>\n",
       "      <td>0.000000</td>\n",
       "      <td>1.000000</td>\n",
       "      <td>334.500000</td>\n",
       "      <td>0.000000</td>\n",
       "      <td>0.000000</td>\n",
       "      <td>0.000000</td>\n",
       "      <td>0.000000</td>\n",
       "      <td>0.000000</td>\n",
       "      <td>0.000000</td>\n",
       "      <td>129975.000000</td>\n",
       "    </tr>\n",
       "    <tr>\n",
       "      <th>50%</th>\n",
       "      <td>69.000000</td>\n",
       "      <td>9478.500000</td>\n",
       "      <td>0.000000</td>\n",
       "      <td>991.500000</td>\n",
       "      <td>1087.000000</td>\n",
       "      <td>0.000000</td>\n",
       "      <td>0.000000</td>\n",
       "      <td>1464.000000</td>\n",
       "      <td>0.000000</td>\n",
       "      <td>0.000000</td>\n",
       "      <td>...</td>\n",
       "      <td>1.000000</td>\n",
       "      <td>2.000000</td>\n",
       "      <td>480.000000</td>\n",
       "      <td>0.000000</td>\n",
       "      <td>25.000000</td>\n",
       "      <td>0.000000</td>\n",
       "      <td>0.000000</td>\n",
       "      <td>0.000000</td>\n",
       "      <td>0.000000</td>\n",
       "      <td>163000.000000</td>\n",
       "    </tr>\n",
       "    <tr>\n",
       "      <th>75%</th>\n",
       "      <td>80.000000</td>\n",
       "      <td>11601.500000</td>\n",
       "      <td>166.000000</td>\n",
       "      <td>1298.250000</td>\n",
       "      <td>1391.250000</td>\n",
       "      <td>728.000000</td>\n",
       "      <td>0.000000</td>\n",
       "      <td>1776.750000</td>\n",
       "      <td>1.000000</td>\n",
       "      <td>0.000000</td>\n",
       "      <td>...</td>\n",
       "      <td>1.000000</td>\n",
       "      <td>2.000000</td>\n",
       "      <td>576.000000</td>\n",
       "      <td>168.000000</td>\n",
       "      <td>68.000000</td>\n",
       "      <td>0.000000</td>\n",
       "      <td>0.000000</td>\n",
       "      <td>0.000000</td>\n",
       "      <td>0.000000</td>\n",
       "      <td>214000.000000</td>\n",
       "    </tr>\n",
       "    <tr>\n",
       "      <th>max</th>\n",
       "      <td>313.000000</td>\n",
       "      <td>215245.000000</td>\n",
       "      <td>1600.000000</td>\n",
       "      <td>6110.000000</td>\n",
       "      <td>4692.000000</td>\n",
       "      <td>2065.000000</td>\n",
       "      <td>572.000000</td>\n",
       "      <td>5642.000000</td>\n",
       "      <td>3.000000</td>\n",
       "      <td>2.000000</td>\n",
       "      <td>...</td>\n",
       "      <td>3.000000</td>\n",
       "      <td>4.000000</td>\n",
       "      <td>1418.000000</td>\n",
       "      <td>857.000000</td>\n",
       "      <td>547.000000</td>\n",
       "      <td>508.000000</td>\n",
       "      <td>480.000000</td>\n",
       "      <td>738.000000</td>\n",
       "      <td>15500.000000</td>\n",
       "      <td>755000.000000</td>\n",
       "    </tr>\n",
       "  </tbody>\n",
       "</table>\n",
       "<p>8 rows × 23 columns</p>\n",
       "</div>"
      ],
      "text/plain": [
       "       LotFrontage        LotArea   MasVnrArea  TotalBsmtSF     1stFlrSF  \\\n",
       "count  1201.000000    1460.000000  1452.000000  1460.000000  1460.000000   \n",
       "mean     70.049958   10516.828082   103.685262  1057.429452  1162.626712   \n",
       "std      24.284752    9981.264932   181.066207   438.705324   386.587738   \n",
       "min      21.000000    1300.000000     0.000000     0.000000   334.000000   \n",
       "25%      59.000000    7553.500000     0.000000   795.750000   882.000000   \n",
       "50%      69.000000    9478.500000     0.000000   991.500000  1087.000000   \n",
       "75%      80.000000   11601.500000   166.000000  1298.250000  1391.250000   \n",
       "max     313.000000  215245.000000  1600.000000  6110.000000  4692.000000   \n",
       "\n",
       "          2ndFlrSF  LowQualFinSF    GrLivArea  BsmtFullBath  BsmtHalfBath  \\\n",
       "count  1460.000000   1460.000000  1460.000000   1460.000000   1460.000000   \n",
       "mean    346.992466      5.844521  1515.463699      0.425342      0.057534   \n",
       "std     436.528436     48.623081   525.480383      0.518911      0.238753   \n",
       "min       0.000000      0.000000   334.000000      0.000000      0.000000   \n",
       "25%       0.000000      0.000000  1129.500000      0.000000      0.000000   \n",
       "50%       0.000000      0.000000  1464.000000      0.000000      0.000000   \n",
       "75%     728.000000      0.000000  1776.750000      1.000000      0.000000   \n",
       "max    2065.000000    572.000000  5642.000000      3.000000      2.000000   \n",
       "\n",
       "       ...   Fireplaces   GarageCars   GarageArea   WoodDeckSF  OpenPorchSF  \\\n",
       "count  ...  1460.000000  1460.000000  1460.000000  1460.000000  1460.000000   \n",
       "mean   ...     0.613014     1.767123   472.980137    94.244521    46.660274   \n",
       "std    ...     0.644666     0.747315   213.804841   125.338794    66.256028   \n",
       "min    ...     0.000000     0.000000     0.000000     0.000000     0.000000   \n",
       "25%    ...     0.000000     1.000000   334.500000     0.000000     0.000000   \n",
       "50%    ...     1.000000     2.000000   480.000000     0.000000    25.000000   \n",
       "75%    ...     1.000000     2.000000   576.000000   168.000000    68.000000   \n",
       "max    ...     3.000000     4.000000  1418.000000   857.000000   547.000000   \n",
       "\n",
       "         3SsnPorch  ScreenPorch     PoolArea       MiscVal      SalePrice  \n",
       "count  1460.000000  1460.000000  1460.000000   1460.000000    1460.000000  \n",
       "mean      3.409589    15.060959     2.758904     43.489041  180921.195890  \n",
       "std      29.317331    55.757415    40.177307    496.123024   79442.502883  \n",
       "min       0.000000     0.000000     0.000000      0.000000   34900.000000  \n",
       "25%       0.000000     0.000000     0.000000      0.000000  129975.000000  \n",
       "50%       0.000000     0.000000     0.000000      0.000000  163000.000000  \n",
       "75%       0.000000     0.000000     0.000000      0.000000  214000.000000  \n",
       "max     508.000000   480.000000   738.000000  15500.000000  755000.000000  \n",
       "\n",
       "[8 rows x 23 columns]"
      ]
     },
     "execution_count": 6,
     "metadata": {},
     "output_type": "execute_result"
    }
   ],
   "source": [
    "df_cont.describe()"
   ]
  },
  {
   "cell_type": "code",
   "execution_count": 7,
   "metadata": {},
   "outputs": [
    {
     "name": "stdout",
     "output_type": "stream",
     "text": [
      "<class 'pandas.core.frame.DataFrame'>\n",
      "RangeIndex: 1460 entries, 0 to 1459\n",
      "Data columns (total 23 columns):\n",
      "LotFrontage     1201 non-null float64\n",
      "LotArea         1460 non-null int64\n",
      "MasVnrArea      1452 non-null float64\n",
      "TotalBsmtSF     1460 non-null int64\n",
      "1stFlrSF        1460 non-null int64\n",
      "2ndFlrSF        1460 non-null int64\n",
      "LowQualFinSF    1460 non-null int64\n",
      "GrLivArea       1460 non-null int64\n",
      "BsmtFullBath    1460 non-null int64\n",
      "BsmtHalfBath    1460 non-null int64\n",
      "FullBath        1460 non-null int64\n",
      "HalfBath        1460 non-null int64\n",
      "TotRmsAbvGrd    1460 non-null int64\n",
      "Fireplaces      1460 non-null int64\n",
      "GarageCars      1460 non-null int64\n",
      "GarageArea      1460 non-null int64\n",
      "WoodDeckSF      1460 non-null int64\n",
      "OpenPorchSF     1460 non-null int64\n",
      "3SsnPorch       1460 non-null int64\n",
      "ScreenPorch     1460 non-null int64\n",
      "PoolArea        1460 non-null int64\n",
      "MiscVal         1460 non-null int64\n",
      "SalePrice       1460 non-null int64\n",
      "dtypes: float64(2), int64(21)\n",
      "memory usage: 262.4 KB\n"
     ]
    }
   ],
   "source": [
    "df_cont.info()"
   ]
  },
  {
   "cell_type": "markdown",
   "metadata": {},
   "source": [
    "\n",
    "As features 'LotFrontage' e 'MasVnrArea' possuem valores nulos. Iremos preencher esses valores com a média dos valores encontrados nessas features.\n"
   ]
  },
  {
   "cell_type": "code",
   "execution_count": 8,
   "metadata": {},
   "outputs": [
    {
     "data": {
      "text/html": [
       "<div>\n",
       "<style scoped>\n",
       "    .dataframe tbody tr th:only-of-type {\n",
       "        vertical-align: middle;\n",
       "    }\n",
       "\n",
       "    .dataframe tbody tr th {\n",
       "        vertical-align: top;\n",
       "    }\n",
       "\n",
       "    .dataframe thead th {\n",
       "        text-align: right;\n",
       "    }\n",
       "</style>\n",
       "<table border=\"1\" class=\"dataframe\">\n",
       "  <thead>\n",
       "    <tr style=\"text-align: right;\">\n",
       "      <th></th>\n",
       "      <th>LotFrontage</th>\n",
       "      <th>MasVnrArea</th>\n",
       "    </tr>\n",
       "  </thead>\n",
       "  <tbody>\n",
       "    <tr>\n",
       "      <th>count</th>\n",
       "      <td>1201.000000</td>\n",
       "      <td>1452.000000</td>\n",
       "    </tr>\n",
       "    <tr>\n",
       "      <th>mean</th>\n",
       "      <td>70.049958</td>\n",
       "      <td>103.685262</td>\n",
       "    </tr>\n",
       "    <tr>\n",
       "      <th>std</th>\n",
       "      <td>24.284752</td>\n",
       "      <td>181.066207</td>\n",
       "    </tr>\n",
       "    <tr>\n",
       "      <th>min</th>\n",
       "      <td>21.000000</td>\n",
       "      <td>0.000000</td>\n",
       "    </tr>\n",
       "    <tr>\n",
       "      <th>25%</th>\n",
       "      <td>59.000000</td>\n",
       "      <td>0.000000</td>\n",
       "    </tr>\n",
       "    <tr>\n",
       "      <th>50%</th>\n",
       "      <td>69.000000</td>\n",
       "      <td>0.000000</td>\n",
       "    </tr>\n",
       "    <tr>\n",
       "      <th>75%</th>\n",
       "      <td>80.000000</td>\n",
       "      <td>166.000000</td>\n",
       "    </tr>\n",
       "    <tr>\n",
       "      <th>max</th>\n",
       "      <td>313.000000</td>\n",
       "      <td>1600.000000</td>\n",
       "    </tr>\n",
       "  </tbody>\n",
       "</table>\n",
       "</div>"
      ],
      "text/plain": [
       "       LotFrontage   MasVnrArea\n",
       "count  1201.000000  1452.000000\n",
       "mean     70.049958   103.685262\n",
       "std      24.284752   181.066207\n",
       "min      21.000000     0.000000\n",
       "25%      59.000000     0.000000\n",
       "50%      69.000000     0.000000\n",
       "75%      80.000000   166.000000\n",
       "max     313.000000  1600.000000"
      ]
     },
     "execution_count": 8,
     "metadata": {},
     "output_type": "execute_result"
    }
   ],
   "source": [
    "df_cont[['LotFrontage', 'MasVnrArea']].describe()"
   ]
  },
  {
   "cell_type": "code",
   "execution_count": 9,
   "metadata": {},
   "outputs": [
    {
     "data": {
      "image/png": "[encoded data removed]",
      "text/plain": [
       "<Figure size 432x504 with 2 Axes>"
      ]
     },
     "metadata": {
      "needs_background": "light"
     },
     "output_type": "display_data"
    }
   ],
   "source": [
    "# Boxplot\n",
    "df_cont[['LotFrontage', 'MasVnrArea']].plot(kind = 'box', subplots = True, sharex = False, sharey = False, figsize = (6, 7))\n",
    "plt.show()"
   ]
  },
  {
   "cell_type": "markdown",
   "metadata": {},
   "source": [
    "Os valores observados para as features acima possuem muitos valores outliers, que consequentemente afetam a media. Neste caso, antes de inputarmos estes valores iremos conferir o comportamento das variaveis em relação a variavel target."
   ]
  },
  {
   "cell_type": "code",
   "execution_count": 10,
   "metadata": {},
   "outputs": [
    {
     "data": {
      "image/png": "[encoded data removed]",
      "text/plain": [
       "<Figure size 432x288 with 1 Axes>"
      ]
     },
     "metadata": {
      "needs_background": "light"
     },
     "output_type": "display_data"
    }
   ],
   "source": [
    "# Definindo o range dos valores de x e y\n",
    "x_range = [df_cont['LotFrontage'].min(),df_cont['LotFrontage'].max()]\n",
    "y_range = [df_cont['SalePrice'].min(),df_cont['SalePrice'].max()]\n",
    "\n",
    "\n",
    "scatter_plot = df_cont.plot(kind = 'scatter', x = 'LotFrontage', y = 'SalePrice', xlim = x_range, ylim = y_range)\n",
    "\n",
    "# Cálculo da média\n",
    "meanY = scatter_plot.plot(x_range, [df_cont['SalePrice'].mean(),df_cont['SalePrice'].mean()], '--', color = 'red', linewidth = 1)\n",
    "meanX = scatter_plot.plot([df_cont['LotFrontage'].mean(), df_cont['LotFrontage'].mean()], y_range, '--', color = 'red', linewidth = 1)"
   ]
  },
  {
   "cell_type": "code",
   "execution_count": 11,
   "metadata": {},
   "outputs": [
    {
     "data": {
      "image/png": "[encoded data removed]",
      "text/plain": [
       "<Figure size 432x288 with 1 Axes>"
      ]
     },
     "metadata": {
      "needs_background": "light"
     },
     "output_type": "display_data"
    }
   ],
   "source": [
    "# Definindo o range dos valores de x e y\n",
    "x_range = [df_cont['MasVnrArea'].min(),df_cont['MasVnrArea'].max()]\n",
    "y_range = [df_cont['SalePrice'].min(),df_cont['SalePrice'].max()]\n",
    "\n",
    "\n",
    "scatter_plot = df_cont.plot(kind = 'scatter', x = 'MasVnrArea', y = 'SalePrice', xlim = x_range, ylim = y_range)\n",
    "\n",
    "# Cálculo da média\n",
    "meanY = scatter_plot.plot(x_range, [df_cont['SalePrice'].mean(),df_cont['SalePrice'].mean()], '--', color = 'red', linewidth = 1)\n",
    "meanX = scatter_plot.plot([df_cont['MasVnrArea'].mean(), df_cont['MasVnrArea'].mean()], y_range, '--', color = 'red', linewidth = 1)"
   ]
  },
  {
   "cell_type": "markdown",
   "metadata": {},
   "source": [
    "Iremos seguir com o preenchimento dos dados NaN com a média dos valores em ambos os casos"
   ]
  },
  {
   "cell_type": "code",
   "execution_count": 12,
   "metadata": {},
   "outputs": [],
   "source": [
    "df_cont['MasVnrArea'] = df_cont['MasVnrArea'].fillna((df_cont['MasVnrArea'].mean()))\n",
    "df_cont['LotFrontage'] = df_cont['LotFrontage'].fillna((df_cont['LotFrontage'].mean()))"
   ]
  },
  {
   "cell_type": "code",
   "execution_count": 13,
   "metadata": {},
   "outputs": [
    {
     "data": {
      "text/plain": [
       "LotFrontage      2.384950\n",
       "LotArea         12.207688\n",
       "MasVnrArea       2.676412\n",
       "TotalBsmtSF      1.524255\n",
       "1stFlrSF         1.376757\n",
       "2ndFlrSF         0.813030\n",
       "LowQualFinSF     9.011341\n",
       "GrLivArea        1.366560\n",
       "BsmtFullBath     0.596067\n",
       "BsmtHalfBath     4.103403\n",
       "FullBath         0.036562\n",
       "HalfBath         0.675897\n",
       "TotRmsAbvGrd     0.676341\n",
       "Fireplaces       0.649565\n",
       "GarageCars      -0.342549\n",
       "GarageArea       0.179981\n",
       "WoodDeckSF       1.541376\n",
       "OpenPorchSF      2.364342\n",
       "3SsnPorch       10.304342\n",
       "ScreenPorch      4.122214\n",
       "PoolArea        14.828374\n",
       "MiscVal         24.476794\n",
       "SalePrice        1.882876\n",
       "dtype: float64"
      ]
     },
     "execution_count": 13,
     "metadata": {},
     "output_type": "execute_result"
    }
   ],
   "source": [
    "df_cont.skew()"
   ]
  },
  {
   "cell_type": "code",
   "execution_count": 14,
   "metadata": {},
   "outputs": [
    {
     "data": {
      "image/png": "[encoded data removed]",
      "text/plain": [
       "<Figure size 842.4x1188 with 25 Axes>"
      ]
     },
     "metadata": {
      "needs_background": "light"
     },
     "output_type": "display_data"
    }
   ],
   "source": [
    "# Density Plots\n",
    "df_cont.plot(kind = 'density',layout = (5,5), subplots = True,  sharex = False, figsize = (11.7, 16.5))\n",
    "plt.show()"
   ]
  },
  {
   "cell_type": "markdown",
   "metadata": {},
   "source": [
    "Para melhorar performance do nosso modelo iremos colocar os dados dentro de uma distribuição normal."
   ]
  },
  {
   "cell_type": "code",
   "execution_count": 15,
   "metadata": {},
   "outputs": [
    {
     "data": {
      "text/plain": [
       "array([[<matplotlib.axes._subplots.AxesSubplot object at 0x0000028FC1F63D30>,\n",
       "        <matplotlib.axes._subplots.AxesSubplot object at 0x0000028FC2416E10>]],\n",
       "      dtype=object)"
      ]
     },
     "execution_count": 15,
     "metadata": {},
     "output_type": "execute_result"
    },
    {
     "data": {
      "image/png": "[encoded data removed]",
      "text/plain": [
       "<Figure size 576x360 with 2 Axes>"
      ]
     },
     "metadata": {
      "needs_background": "light"
     },
     "output_type": "display_data"
    }
   ],
   "source": [
    "# Pré-Processamento dos dados\n",
    "new_price = {\"price\":df_cont[\"SalePrice\"], \"log(price + 1)\":np.log1p(df_cont[\"SalePrice\"])}\n",
    "prices = pd.DataFrame(new_price)\n",
    "mpl.rcParams['figure.figsize'] = (8.0, 5.0)\n",
    "prices.hist()"
   ]
  },
  {
   "cell_type": "markdown",
   "metadata": {},
   "source": [
    "## Avaliação dos Dados Utilizando Stats Model"
   ]
  },
  {
   "cell_type": "code",
   "execution_count": 16,
   "metadata": {},
   "outputs": [],
   "source": [
    "# Gerando número de observações e variáveis\n",
    "observations = len(df_cont)\n",
    "variables = df_cont.columns[:-1]"
   ]
  },
  {
   "cell_type": "code",
   "execution_count": 17,
   "metadata": {},
   "outputs": [],
   "source": [
    "# Coletando x e y\n",
    "X = df_cont.iloc[:,:-1]\n",
    "y = df_cont['SalePrice'].values"
   ]
  },
  {
   "cell_type": "code",
   "execution_count": 18,
   "metadata": {},
   "outputs": [],
   "source": [
    "Xc = sm.add_constant(X)\n",
    "modelo = sm.OLS(y, Xc)\n",
    "modelo_v1 = modelo.fit()"
   ]
  },
  {
   "cell_type": "code",
   "execution_count": 19,
   "metadata": {},
   "outputs": [
    {
     "data": {
      "text/html": [
       "<table class=\"simpletable\">\n",
       "<caption>OLS Regression Results</caption>\n",
       "<tr>\n",
       "  <th>Dep. Variable:</th>            <td>y</td>        <th>  R-squared:         </th> <td>   0.724</td> \n",
       "</tr>\n",
       "<tr>\n",
       "  <th>Model:</th>                   <td>OLS</td>       <th>  Adj. R-squared:    </th> <td>   0.720</td> \n",
       "</tr>\n",
       "<tr>\n",
       "  <th>Method:</th>             <td>Least Squares</td>  <th>  F-statistic:       </th> <td>   179.2</td> \n",
       "</tr>\n",
       "<tr>\n",
       "  <th>Date:</th>             <td>Tue, 26 Oct 2021</td> <th>  Prob (F-statistic):</th>  <td>  0.00</td>  \n",
       "</tr>\n",
       "<tr>\n",
       "  <th>Time:</th>                 <td>11:52:49</td>     <th>  Log-Likelihood:    </th> <td> -17605.</td> \n",
       "</tr>\n",
       "<tr>\n",
       "  <th>No. Observations:</th>      <td>  1460</td>      <th>  AIC:               </th> <td>3.525e+04</td>\n",
       "</tr>\n",
       "<tr>\n",
       "  <th>Df Residuals:</th>          <td>  1438</td>      <th>  BIC:               </th> <td>3.537e+04</td>\n",
       "</tr>\n",
       "<tr>\n",
       "  <th>Df Model:</th>              <td>    21</td>      <th>                     </th>     <td> </td>    \n",
       "</tr>\n",
       "<tr>\n",
       "  <th>Covariance Type:</th>      <td>nonrobust</td>    <th>                     </th>     <td> </td>    \n",
       "</tr>\n",
       "</table>\n",
       "<table class=\"simpletable\">\n",
       "<tr>\n",
       "        <td></td>          <th>coef</th>     <th>std err</th>      <th>t</th>      <th>P>|t|</th>  <th>[0.025</th>    <th>0.975]</th>  \n",
       "</tr>\n",
       "<tr>\n",
       "  <th>const</th>        <td>-2.373e+04</td> <td> 5947.837</td> <td>   -3.990</td> <td> 0.000</td> <td>-3.54e+04</td> <td>-1.21e+04</td>\n",
       "</tr>\n",
       "<tr>\n",
       "  <th>LotFrontage</th>  <td>   11.1956</td> <td>   58.651</td> <td>    0.191</td> <td> 0.849</td> <td> -103.855</td> <td>  126.247</td>\n",
       "</tr>\n",
       "<tr>\n",
       "  <th>LotArea</th>      <td>    0.1201</td> <td>    0.122</td> <td>    0.987</td> <td> 0.324</td> <td>   -0.119</td> <td>    0.359</td>\n",
       "</tr>\n",
       "<tr>\n",
       "  <th>MasVnrArea</th>   <td>   45.0413</td> <td>    7.016</td> <td>    6.419</td> <td> 0.000</td> <td>   31.278</td> <td>   58.805</td>\n",
       "</tr>\n",
       "<tr>\n",
       "  <th>TotalBsmtSF</th>  <td>   39.5660</td> <td>    4.654</td> <td>    8.502</td> <td> 0.000</td> <td>   30.437</td> <td>   48.695</td>\n",
       "</tr>\n",
       "<tr>\n",
       "  <th>1stFlrSF</th>     <td>   17.6549</td> <td>    7.233</td> <td>    2.441</td> <td> 0.015</td> <td>    3.466</td> <td>   31.844</td>\n",
       "</tr>\n",
       "<tr>\n",
       "  <th>2ndFlrSF</th>     <td>   19.1486</td> <td>    6.763</td> <td>    2.831</td> <td> 0.005</td> <td>    5.882</td> <td>   32.415</td>\n",
       "</tr>\n",
       "<tr>\n",
       "  <th>LowQualFinSF</th> <td>   -9.4933</td> <td>   17.594</td> <td>   -0.540</td> <td> 0.590</td> <td>  -44.005</td> <td>   25.019</td>\n",
       "</tr>\n",
       "<tr>\n",
       "  <th>GrLivArea</th>    <td>   27.3102</td> <td>    6.510</td> <td>    4.195</td> <td> 0.000</td> <td>   14.540</td> <td>   40.080</td>\n",
       "</tr>\n",
       "<tr>\n",
       "  <th>BsmtFullBath</th> <td> 1.373e+04</td> <td> 2365.823</td> <td>    5.805</td> <td> 0.000</td> <td> 9092.864</td> <td> 1.84e+04</td>\n",
       "</tr>\n",
       "<tr>\n",
       "  <th>BsmtHalfBath</th> <td> 1892.5126</td> <td> 4727.711</td> <td>    0.400</td> <td> 0.689</td> <td>-7381.437</td> <td> 1.12e+04</td>\n",
       "</tr>\n",
       "<tr>\n",
       "  <th>FullBath</th>     <td> 1.879e+04</td> <td> 2865.427</td> <td>    6.559</td> <td> 0.000</td> <td> 1.32e+04</td> <td> 2.44e+04</td>\n",
       "</tr>\n",
       "<tr>\n",
       "  <th>HalfBath</th>     <td> 8895.5311</td> <td> 2965.124</td> <td>    3.000</td> <td> 0.003</td> <td> 3079.100</td> <td> 1.47e+04</td>\n",
       "</tr>\n",
       "<tr>\n",
       "  <th>TotRmsAbvGrd</th> <td>-1431.3022</td> <td> 1254.499</td> <td>   -1.141</td> <td> 0.254</td> <td>-3892.147</td> <td> 1029.542</td>\n",
       "</tr>\n",
       "<tr>\n",
       "  <th>Fireplaces</th>   <td> 1.013e+04</td> <td> 2061.114</td> <td>    4.915</td> <td> 0.000</td> <td> 6086.824</td> <td> 1.42e+04</td>\n",
       "</tr>\n",
       "<tr>\n",
       "  <th>GarageCars</th>   <td> 2.213e+04</td> <td> 3350.318</td> <td>    6.605</td> <td> 0.000</td> <td> 1.56e+04</td> <td> 2.87e+04</td>\n",
       "</tr>\n",
       "<tr>\n",
       "  <th>GarageArea</th>   <td>   13.2454</td> <td>   11.688</td> <td>    1.133</td> <td> 0.257</td> <td>   -9.681</td> <td>   36.172</td>\n",
       "</tr>\n",
       "<tr>\n",
       "  <th>WoodDeckSF</th>   <td>   43.8026</td> <td>    9.500</td> <td>    4.611</td> <td> 0.000</td> <td>   25.168</td> <td>   62.437</td>\n",
       "</tr>\n",
       "<tr>\n",
       "  <th>OpenPorchSF</th>  <td>   38.1525</td> <td>   18.093</td> <td>    2.109</td> <td> 0.035</td> <td>    2.661</td> <td>   73.644</td>\n",
       "</tr>\n",
       "<tr>\n",
       "  <th>3SsnPorch</th>    <td>   45.6100</td> <td>   37.865</td> <td>    1.205</td> <td> 0.229</td> <td>  -28.667</td> <td>  119.887</td>\n",
       "</tr>\n",
       "<tr>\n",
       "  <th>ScreenPorch</th>  <td>   41.6023</td> <td>   20.420</td> <td>    2.037</td> <td> 0.042</td> <td>    1.546</td> <td>   81.658</td>\n",
       "</tr>\n",
       "<tr>\n",
       "  <th>PoolArea</th>     <td>  -44.5661</td> <td>   28.547</td> <td>   -1.561</td> <td> 0.119</td> <td> -100.564</td> <td>   11.432</td>\n",
       "</tr>\n",
       "<tr>\n",
       "  <th>MiscVal</th>      <td>    0.2047</td> <td>    2.232</td> <td>    0.092</td> <td> 0.927</td> <td>   -4.174</td> <td>    4.584</td>\n",
       "</tr>\n",
       "</table>\n",
       "<table class=\"simpletable\">\n",
       "<tr>\n",
       "  <th>Omnibus:</th>       <td>459.864</td> <th>  Durbin-Watson:     </th> <td>   1.936</td> \n",
       "</tr>\n",
       "<tr>\n",
       "  <th>Prob(Omnibus):</th> <td> 0.000</td>  <th>  Jarque-Bera (JB):  </th> <td>35402.579</td>\n",
       "</tr>\n",
       "<tr>\n",
       "  <th>Skew:</th>          <td>-0.519</td>  <th>  Prob(JB):          </th> <td>    0.00</td> \n",
       "</tr>\n",
       "<tr>\n",
       "  <th>Kurtosis:</th>      <td>27.101</td>  <th>  Cond. No.          </th> <td>1.36e+17</td> \n",
       "</tr>\n",
       "</table><br/><br/>Warnings:<br/>[1] Standard Errors assume that the covariance matrix of the errors is correctly specified.<br/>[2] The smallest eigenvalue is 1.68e-23. This might indicate that there are<br/>strong multicollinearity problems or that the design matrix is singular."
      ],
      "text/plain": [
       "<class 'statsmodels.iolib.summary.Summary'>\n",
       "\"\"\"\n",
       "                            OLS Regression Results                            \n",
       "==============================================================================\n",
       "Dep. Variable:                      y   R-squared:                       0.724\n",
       "Model:                            OLS   Adj. R-squared:                  0.720\n",
       "Method:                 Least Squares   F-statistic:                     179.2\n",
       "Date:                Tue, 26 Oct 2021   Prob (F-statistic):               0.00\n",
       "Time:                        11:52:49   Log-Likelihood:                -17605.\n",
       "No. Observations:                1460   AIC:                         3.525e+04\n",
       "Df Residuals:                    1438   BIC:                         3.537e+04\n",
       "Df Model:                          21                                         \n",
       "Covariance Type:            nonrobust                                         \n",
       "================================================================================\n",
       "                   coef    std err          t      P>|t|      [0.025      0.975]\n",
       "--------------------------------------------------------------------------------\n",
       "const        -2.373e+04   5947.837     -3.990      0.000   -3.54e+04   -1.21e+04\n",
       "LotFrontage     11.1956     58.651      0.191      0.849    -103.855     126.247\n",
       "LotArea          0.1201      0.122      0.987      0.324      -0.119       0.359\n",
       "MasVnrArea      45.0413      7.016      6.419      0.000      31.278      58.805\n",
       "TotalBsmtSF     39.5660      4.654      8.502      0.000      30.437      48.695\n",
       "1stFlrSF        17.6549      7.233      2.441      0.015       3.466      31.844\n",
       "2ndFlrSF        19.1486      6.763      2.831      0.005       5.882      32.415\n",
       "LowQualFinSF    -9.4933     17.594     -0.540      0.590     -44.005      25.019\n",
       "GrLivArea       27.3102      6.510      4.195      0.000      14.540      40.080\n",
       "BsmtFullBath  1.373e+04   2365.823      5.805      0.000    9092.864    1.84e+04\n",
       "BsmtHalfBath  1892.5126   4727.711      0.400      0.689   -7381.437    1.12e+04\n",
       "FullBath      1.879e+04   2865.427      6.559      0.000    1.32e+04    2.44e+04\n",
       "HalfBath      8895.5311   2965.124      3.000      0.003    3079.100    1.47e+04\n",
       "TotRmsAbvGrd -1431.3022   1254.499     -1.141      0.254   -3892.147    1029.542\n",
       "Fireplaces    1.013e+04   2061.114      4.915      0.000    6086.824    1.42e+04\n",
       "GarageCars    2.213e+04   3350.318      6.605      0.000    1.56e+04    2.87e+04\n",
       "GarageArea      13.2454     11.688      1.133      0.257      -9.681      36.172\n",
       "WoodDeckSF      43.8026      9.500      4.611      0.000      25.168      62.437\n",
       "OpenPorchSF     38.1525     18.093      2.109      0.035       2.661      73.644\n",
       "3SsnPorch       45.6100     37.865      1.205      0.229     -28.667     119.887\n",
       "ScreenPorch     41.6023     20.420      2.037      0.042       1.546      81.658\n",
       "PoolArea       -44.5661     28.547     -1.561      0.119    -100.564      11.432\n",
       "MiscVal          0.2047      2.232      0.092      0.927      -4.174       4.584\n",
       "==============================================================================\n",
       "Omnibus:                      459.864   Durbin-Watson:                   1.936\n",
       "Prob(Omnibus):                  0.000   Jarque-Bera (JB):            35402.579\n",
       "Skew:                          -0.519   Prob(JB):                         0.00\n",
       "Kurtosis:                      27.101   Cond. No.                     1.36e+17\n",
       "==============================================================================\n",
       "\n",
       "Warnings:\n",
       "[1] Standard Errors assume that the covariance matrix of the errors is correctly specified.\n",
       "[2] The smallest eigenvalue is 1.68e-23. This might indicate that there are\n",
       "strong multicollinearity problems or that the design matrix is singular.\n",
       "\"\"\""
      ]
     },
     "execution_count": 19,
     "metadata": {},
     "output_type": "execute_result"
    }
   ],
   "source": [
    "modelo_v1.summary()"
   ]
  },
  {
   "cell_type": "markdown",
   "metadata": {},
   "source": [
    "Avaliando as associações das variaveis preditoras com a variavel de resposta através do P value, temos que as seguintes variaveis não possuem associação:\n",
    "  * LotFrontage\n",
    "  * LotArea      \n",
    "  * LowQualFinSF\n",
    "  * BsmtHalfBath\n",
    "  * TotRmsAbvGr\n",
    "  * GarageArea\n",
    "  * 3SsnPorch\n",
    "  * PoolArea\n",
    "  * MiscVal"
   ]
  },
  {
   "cell_type": "markdown",
   "metadata": {},
   "source": [
    "O modelo ainda apresenta possui o valor de r-square é de 0,74"
   ]
  },
  {
   "cell_type": "markdown",
   "metadata": {},
   "source": [
    "## Avaliando Correlação"
   ]
  },
  {
   "cell_type": "code",
   "execution_count": 20,
   "metadata": {},
   "outputs": [],
   "source": [
    "# Criando um Correlation Plot\n",
    "def visualize_correlation_matrix(data, hurdle = 0.0):\n",
    "    R = np.corrcoef(data, rowvar = 0)\n",
    "    R[np.where(np.abs(R) < hurdle)] = 0.0\n",
    "    heatmap = plt.pcolor(R, cmap = mpl.cm.coolwarm, alpha = 0.8)\n",
    "    heatmap.axes.set_frame_on(False)\n",
    "    heatmap.axes.set_yticks(np.arange(R.shape[0]) + 0.5, minor = False)\n",
    "    heatmap.axes.set_xticks(np.arange(R.shape[1]) + 0.5, minor = False)\n",
    "    heatmap.axes.set_xticklabels(variables, minor = False)\n",
    "    plt.xticks(rotation=90)\n",
    "    heatmap.axes.set_yticklabels(variables, minor = False)\n",
    "    plt.tick_params(axis = 'both', which = 'both', bottom = 'off', top = 'off', left = 'off', right = 'off') \n",
    "    plt.colorbar()\n",
    "    plt.show()"
   ]
  },
  {
   "cell_type": "code",
   "execution_count": 21,
   "metadata": {},
   "outputs": [
    {
     "data": {
      "image/png": "[encoded data removed]",
      "text/plain": [
       "<Figure size 576x360 with 2 Axes>"
      ]
     },
     "metadata": {
      "needs_background": "light"
     },
     "output_type": "display_data"
    }
   ],
   "source": [
    "# Visualizando o Plot\n",
    "visualize_correlation_matrix(X, hurdle = 0.5)"
   ]
  },
  {
   "cell_type": "code",
   "execution_count": 22,
   "metadata": {},
   "outputs": [
    {
     "data": {
      "text/html": [
       "<div>\n",
       "<style scoped>\n",
       "    .dataframe tbody tr th:only-of-type {\n",
       "        vertical-align: middle;\n",
       "    }\n",
       "\n",
       "    .dataframe tbody tr th {\n",
       "        vertical-align: top;\n",
       "    }\n",
       "\n",
       "    .dataframe thead th {\n",
       "        text-align: right;\n",
       "    }\n",
       "</style>\n",
       "<table border=\"1\" class=\"dataframe\">\n",
       "  <thead>\n",
       "    <tr style=\"text-align: right;\">\n",
       "      <th></th>\n",
       "      <th>TotalBsmtSF</th>\n",
       "      <th>1stFlrSF</th>\n",
       "      <th>2ndFlrSF</th>\n",
       "      <th>GrLivArea</th>\n",
       "      <th>FullBath</th>\n",
       "      <th>HalfBath</th>\n",
       "      <th>TotRmsAbvGrd</th>\n",
       "      <th>GarageCars</th>\n",
       "      <th>GarageArea</th>\n",
       "    </tr>\n",
       "  </thead>\n",
       "  <tbody>\n",
       "    <tr>\n",
       "      <th>TotalBsmtSF</th>\n",
       "      <td>1.000000</td>\n",
       "      <td>0.819530</td>\n",
       "      <td>-0.174512</td>\n",
       "      <td>0.454868</td>\n",
       "      <td>0.323722</td>\n",
       "      <td>-0.048804</td>\n",
       "      <td>0.285573</td>\n",
       "      <td>0.434585</td>\n",
       "      <td>0.486665</td>\n",
       "    </tr>\n",
       "    <tr>\n",
       "      <th>1stFlrSF</th>\n",
       "      <td>0.819530</td>\n",
       "      <td>1.000000</td>\n",
       "      <td>-0.202646</td>\n",
       "      <td>0.566024</td>\n",
       "      <td>0.380637</td>\n",
       "      <td>-0.119916</td>\n",
       "      <td>0.409516</td>\n",
       "      <td>0.439317</td>\n",
       "      <td>0.489782</td>\n",
       "    </tr>\n",
       "    <tr>\n",
       "      <th>2ndFlrSF</th>\n",
       "      <td>-0.174512</td>\n",
       "      <td>-0.202646</td>\n",
       "      <td>1.000000</td>\n",
       "      <td>0.687501</td>\n",
       "      <td>0.421378</td>\n",
       "      <td>0.609707</td>\n",
       "      <td>0.616423</td>\n",
       "      <td>0.183926</td>\n",
       "      <td>0.138347</td>\n",
       "    </tr>\n",
       "    <tr>\n",
       "      <th>GrLivArea</th>\n",
       "      <td>0.454868</td>\n",
       "      <td>0.566024</td>\n",
       "      <td>0.687501</td>\n",
       "      <td>1.000000</td>\n",
       "      <td>0.630012</td>\n",
       "      <td>0.415772</td>\n",
       "      <td>0.825489</td>\n",
       "      <td>0.467247</td>\n",
       "      <td>0.468997</td>\n",
       "    </tr>\n",
       "    <tr>\n",
       "      <th>FullBath</th>\n",
       "      <td>0.323722</td>\n",
       "      <td>0.380637</td>\n",
       "      <td>0.421378</td>\n",
       "      <td>0.630012</td>\n",
       "      <td>1.000000</td>\n",
       "      <td>0.136381</td>\n",
       "      <td>0.554784</td>\n",
       "      <td>0.469672</td>\n",
       "      <td>0.405656</td>\n",
       "    </tr>\n",
       "    <tr>\n",
       "      <th>HalfBath</th>\n",
       "      <td>-0.048804</td>\n",
       "      <td>-0.119916</td>\n",
       "      <td>0.609707</td>\n",
       "      <td>0.415772</td>\n",
       "      <td>0.136381</td>\n",
       "      <td>1.000000</td>\n",
       "      <td>0.343415</td>\n",
       "      <td>0.219178</td>\n",
       "      <td>0.163549</td>\n",
       "    </tr>\n",
       "    <tr>\n",
       "      <th>TotRmsAbvGrd</th>\n",
       "      <td>0.285573</td>\n",
       "      <td>0.409516</td>\n",
       "      <td>0.616423</td>\n",
       "      <td>0.825489</td>\n",
       "      <td>0.554784</td>\n",
       "      <td>0.343415</td>\n",
       "      <td>1.000000</td>\n",
       "      <td>0.362289</td>\n",
       "      <td>0.337822</td>\n",
       "    </tr>\n",
       "    <tr>\n",
       "      <th>GarageCars</th>\n",
       "      <td>0.434585</td>\n",
       "      <td>0.439317</td>\n",
       "      <td>0.183926</td>\n",
       "      <td>0.467247</td>\n",
       "      <td>0.469672</td>\n",
       "      <td>0.219178</td>\n",
       "      <td>0.362289</td>\n",
       "      <td>1.000000</td>\n",
       "      <td>0.882475</td>\n",
       "    </tr>\n",
       "    <tr>\n",
       "      <th>GarageArea</th>\n",
       "      <td>0.486665</td>\n",
       "      <td>0.489782</td>\n",
       "      <td>0.138347</td>\n",
       "      <td>0.468997</td>\n",
       "      <td>0.405656</td>\n",
       "      <td>0.163549</td>\n",
       "      <td>0.337822</td>\n",
       "      <td>0.882475</td>\n",
       "      <td>1.000000</td>\n",
       "    </tr>\n",
       "  </tbody>\n",
       "</table>\n",
       "</div>"
      ],
      "text/plain": [
       "              TotalBsmtSF  1stFlrSF  2ndFlrSF  GrLivArea  FullBath  HalfBath  \\\n",
       "TotalBsmtSF      1.000000  0.819530 -0.174512   0.454868  0.323722 -0.048804   \n",
       "1stFlrSF         0.819530  1.000000 -0.202646   0.566024  0.380637 -0.119916   \n",
       "2ndFlrSF        -0.174512 -0.202646  1.000000   0.687501  0.421378  0.609707   \n",
       "GrLivArea        0.454868  0.566024  0.687501   1.000000  0.630012  0.415772   \n",
       "FullBath         0.323722  0.380637  0.421378   0.630012  1.000000  0.136381   \n",
       "HalfBath        -0.048804 -0.119916  0.609707   0.415772  0.136381  1.000000   \n",
       "TotRmsAbvGrd     0.285573  0.409516  0.616423   0.825489  0.554784  0.343415   \n",
       "GarageCars       0.434585  0.439317  0.183926   0.467247  0.469672  0.219178   \n",
       "GarageArea       0.486665  0.489782  0.138347   0.468997  0.405656  0.163549   \n",
       "\n",
       "              TotRmsAbvGrd  GarageCars  GarageArea  \n",
       "TotalBsmtSF       0.285573    0.434585    0.486665  \n",
       "1stFlrSF          0.409516    0.439317    0.489782  \n",
       "2ndFlrSF          0.616423    0.183926    0.138347  \n",
       "GrLivArea         0.825489    0.467247    0.468997  \n",
       "FullBath          0.554784    0.469672    0.405656  \n",
       "HalfBath          0.343415    0.219178    0.163549  \n",
       "TotRmsAbvGrd      1.000000    0.362289    0.337822  \n",
       "GarageCars        0.362289    1.000000    0.882475  \n",
       "GarageArea        0.337822    0.882475    1.000000  "
      ]
     },
     "execution_count": 22,
     "metadata": {},
     "output_type": "execute_result"
    }
   ],
   "source": [
    "# criando lista de variaveis que possuem alta correlação\n",
    "\n",
    "list_corr = ['TotalBsmtSF', '1stFlrSF', '2ndFlrSF', 'GrLivArea', 'FullBath', 'HalfBath', 'TotRmsAbvGrd', 'GarageCars', 'GarageArea']\n",
    "\n",
    "df_cont[list_corr].corr()"
   ]
  },
  {
   "cell_type": "code",
   "execution_count": 23,
   "metadata": {},
   "outputs": [
    {
     "data": {
      "image/png": "[encoded data removed]",
      "text/plain": [
       "<Figure size 576x360 with 2 Axes>"
      ]
     },
     "metadata": {
      "needs_background": "light"
     },
     "output_type": "display_data"
    }
   ],
   "source": [
    "# Visualizando o Plot\n",
    "visualize_correlation_matrix(df_cont[list_corr], hurdle = 0.5)"
   ]
  },
  {
   "cell_type": "markdown",
   "metadata": {},
   "source": [
    "As variaveis destacadas acima são as que possuem maior valor de correlação. Antes de prosseguir a analise teremos que tratar possiveis problemas de multicolinearidade.\n",
    "Estes valores podem fazer com que nosso modelo seja tentencioso, ja que estamos apresentando dados que podem possuir a mesma informação.\n",
    "\n",
    "Para prosseguir com a exclusão dessas variaveis utilizaremos a tecnica de autovalores e autovetores."
   ]
  },
  {
   "cell_type": "markdown",
   "metadata": {},
   "source": [
    "## Avaliando Multicolinearidade"
   ]
  },
  {
   "cell_type": "code",
   "execution_count": 24,
   "metadata": {},
   "outputs": [
    {
     "data": {
      "text/plain": [
       "array([5.36596864e+00, 2.35612731e+00, 1.37133009e+00, 1.02280386e-01,\n",
       "       1.55573303e-01, 2.14813096e-01, 3.55696814e-01, 4.88997750e-01,\n",
       "       1.16698376e+00, 6.20927375e-01, 6.33102380e-01, 6.43435774e-01,\n",
       "       1.12093496e+00, 1.08815936e+00, 7.70083742e-01, 1.01243554e+00,\n",
       "       9.90343629e-01, 9.39669931e-01, 8.44538334e-01, 8.69849466e-01,\n",
       "       8.88748363e-01, 2.21238866e-16])"
      ]
     },
     "execution_count": 24,
     "metadata": {},
     "output_type": "execute_result"
    }
   ],
   "source": [
    "# Gerando eigenvalues e eigenvectors\n",
    "corr = np.corrcoef(X, rowvar = 0)\n",
    "eigenvalues, eigenvectors = np.linalg.eig(corr)\n",
    "\n",
    "eigenvalues"
   ]
  },
  {
   "cell_type": "code",
   "execution_count": 25,
   "metadata": {},
   "outputs": [
    {
     "name": "stdout",
     "output_type": "stream",
     "text": [
      "<built-in method sort of numpy.ndarray object at 0x0000028FC1935530>\n"
     ]
    }
   ],
   "source": [
    "x = eigenvalues\n",
    "\n",
    "print (x.sort)"
   ]
  },
  {
   "cell_type": "code",
   "execution_count": 26,
   "metadata": {},
   "outputs": [
    {
     "name": "stdout",
     "output_type": "stream",
     "text": [
      "[-4.10902850e-17  1.26240713e-16 -1.72861804e-16 -7.58227341e-16\n",
      "  4.91561516e-01  5.55063077e-01  6.18261607e-02 -6.68168978e-01\n",
      " -9.02911186e-17 -1.81216735e-16  6.92203693e-16  1.24845812e-15\n",
      " -1.21383530e-16 -1.72357519e-16 -4.99585001e-16  1.70662947e-16\n",
      "  7.80295989e-17 -6.47789390e-18 -5.13570284e-17 -1.62232494e-16\n",
      " -6.32899842e-17 -5.77409868e-17]\n"
     ]
    }
   ],
   "source": [
    "print (eigenvectors[:,-1])"
   ]
  },
  {
   "cell_type": "code",
   "execution_count": 27,
   "metadata": {},
   "outputs": [
    {
     "name": "stdout",
     "output_type": "stream",
     "text": [
      "LotFrontage BsmtFullBath WoodDeckSF OpenPorchSF 3SsnPorch PoolArea MiscVal\n"
     ]
    }
   ],
   "source": [
    "print (variables[0], variables[8], variables[16],variables[17], variables[18], variables[20],variables[21])"
   ]
  },
  {
   "cell_type": "markdown",
   "metadata": {},
   "source": [
    "## Avaliado o Grau de Importancia das Variaveis"
   ]
  },
  {
   "cell_type": "code",
   "execution_count": 28,
   "metadata": {},
   "outputs": [],
   "source": [
    "# Criando um modelo\n",
    "modelo = linear_model.LinearRegression(normalize = False, fit_intercept = True)\n",
    "\n",
    "# Padronizando os dados\n",
    "standardization = StandardScaler()\n",
    "\n",
    "# Criando o pipelione\n",
    "Stand_coef_linear_reg = make_pipeline(standardization, modelo)"
   ]
  },
  {
   "cell_type": "code",
   "execution_count": 29,
   "metadata": {},
   "outputs": [
    {
     "data": {
      "text/plain": [
       "Pipeline(steps=[('standardscaler', StandardScaler()),\n",
       "                ('linearregression', LinearRegression(normalize=False))])"
      ]
     },
     "execution_count": 29,
     "metadata": {},
     "output_type": "execute_result"
    }
   ],
   "source": [
    "# Treinando o modelo com dados padronizados (na mesma escala)\n",
    "Stand_coef_linear_reg.fit(X,y)"
   ]
  },
  {
   "cell_type": "code",
   "execution_count": 30,
   "metadata": {},
   "outputs": [
    {
     "name": "stdout",
     "output_type": "stream",
     "text": [
      "17351.869 TotalBsmtSF\n",
      "16530.939 GarageCars\n",
      "13262.189 GrLivArea\n",
      "10350.166 FullBath\n",
      "9256.423 2ndFlrSF\n",
      "8130.276 MasVnrArea\n",
      "7620.232 1stFlrSF\n",
      "7124.121 BsmtFullBath\n",
      "6528.193 Fireplaces\n",
      "5488.280 WoodDeckSF\n",
      "4471.900 HalfBath\n",
      "2830.962 GarageArea\n",
      "2526.969 OpenPorchSF\n",
      "2325.632 TotRmsAbvGrd\n",
      "2318.840 ScreenPorch\n",
      "1789.934 PoolArea\n",
      "1336.704 3SsnPorch\n",
      "1198.758 LotArea\n",
      "451.688 BsmtHalfBath\n",
      "361.143 LowQualFinSF\n",
      "246.488 LotFrontage\n",
      "101.545 MiscVal\n"
     ]
    }
   ],
   "source": [
    "# Imprimindo os coeficientes e as variáveis\n",
    "for coef, var in sorted(zip(map(abs, Stand_coef_linear_reg.steps[1][1].coef_), df_cont.columns[:-1]), reverse = True):\n",
    "    print (\"%6.3f %s\" % (coef,var))"
   ]
  },
  {
   "cell_type": "raw",
   "metadata": {},
   "source": [
    "Acima temos os coeficientes do modelo ordenados por grau de importancia. \n",
    "Prosseguiremos com a analise da contribuição de cada variaveis no valor de R2."
   ]
  },
  {
   "cell_type": "code",
   "execution_count": 31,
   "metadata": {},
   "outputs": [],
   "source": [
    "def r2_est(X,y):\n",
    "    return r2_score(y, Stand_coef_linear_reg.fit(X,y).predict(X))"
   ]
  },
  {
   "cell_type": "code",
   "execution_count": 32,
   "metadata": {},
   "outputs": [
    {
     "name": "stdout",
     "output_type": "stream",
     "text": [
      "Coeficiente R2: 0.724\n"
     ]
    }
   ],
   "source": [
    "print ('Coeficiente R2: %0.3f' %  r2_est(X,y))"
   ]
  },
  {
   "cell_type": "code",
   "execution_count": 33,
   "metadata": {},
   "outputs": [
    {
     "name": "stdout",
     "output_type": "stream",
     "text": [
      " 0.014 TotalBsmtSF\n",
      " 0.008 GarageCars\n",
      " 0.008 FullBath\n",
      " 0.008 MasVnrArea\n",
      " 0.006 BsmtFullBath\n",
      " 0.005 Fireplaces\n",
      " 0.004 WoodDeckSF\n",
      " 0.002 HalfBath\n",
      " 0.001 OpenPorchSF\n",
      " 0.001 ScreenPorch\n",
      " 0.000 PoolArea\n",
      " 0.000 3SsnPorch\n",
      " 0.000 TotRmsAbvGrd\n",
      " 0.000 GarageArea\n",
      " 0.000 LotArea\n",
      " 0.000 BsmtHalfBath\n",
      " 0.000 LotFrontage\n",
      " 0.000 MiscVal\n",
      " 0.000 LowQualFinSF\n",
      " 0.000 GrLivArea\n",
      "-0.000 2ndFlrSF\n",
      "-0.000 1stFlrSF\n"
     ]
    }
   ],
   "source": [
    "# Gera o impacto de cada atributo no R2\n",
    "r2_impact = list()\n",
    "for j in range(X.shape[1]):\n",
    "    selection = [i for i in range(X.shape[1]) if i!=j]\n",
    "    r2_impact.append(((r2_est(X,y) - r2_est(X.values[:,selection],y)), df_cont.columns[j]))\n",
    "    \n",
    "for imp, varname in sorted(r2_impact, reverse = True):\n",
    "    print ('%6.3f %s' %  (imp, varname))"
   ]
  },
  {
   "cell_type": "markdown",
   "metadata": {},
   "source": [
    "## Remoção de Variaveis"
   ]
  },
  {
   "cell_type": "markdown",
   "metadata": {},
   "source": [
    "Conforme exploração e analise acima iremos retirar do modelo as seguintes variaveis:\n",
    "* LowQualFinSF\n",
    "* LotFrontage\n",
    "* MiscVal\n",
    "* 3SsnPorch"
   ]
  },
  {
   "cell_type": "code",
   "execution_count": 34,
   "metadata": {},
   "outputs": [],
   "source": [
    "df_cont_v2 = df_cont\n",
    "\n",
    "# Lista de colunas que serão deletadas\n",
    "to_drop = ['LowQualFinSF', 'LotFrontage', 'MiscVal', '3SsnPorch']\n",
    "\n",
    "df_cont_v2 = df_cont_v2.drop(to_drop,axis='columns')"
   ]
  },
  {
   "cell_type": "code",
   "execution_count": 35,
   "metadata": {},
   "outputs": [
    {
     "data": {
      "text/html": [
       "<table class=\"simpletable\">\n",
       "<caption>OLS Regression Results</caption>\n",
       "<tr>\n",
       "  <th>Dep. Variable:</th>            <td>y</td>        <th>  R-squared:         </th> <td>   0.723</td> \n",
       "</tr>\n",
       "<tr>\n",
       "  <th>Model:</th>                   <td>OLS</td>       <th>  Adj. R-squared:    </th> <td>   0.720</td> \n",
       "</tr>\n",
       "<tr>\n",
       "  <th>Method:</th>             <td>Least Squares</td>  <th>  F-statistic:       </th> <td>   209.2</td> \n",
       "</tr>\n",
       "<tr>\n",
       "  <th>Date:</th>             <td>Tue, 26 Oct 2021</td> <th>  Prob (F-statistic):</th>  <td>  0.00</td>  \n",
       "</tr>\n",
       "<tr>\n",
       "  <th>Time:</th>                 <td>11:52:50</td>     <th>  Log-Likelihood:    </th> <td> -17606.</td> \n",
       "</tr>\n",
       "<tr>\n",
       "  <th>No. Observations:</th>      <td>  1460</td>      <th>  AIC:               </th> <td>3.525e+04</td>\n",
       "</tr>\n",
       "<tr>\n",
       "  <th>Df Residuals:</th>          <td>  1441</td>      <th>  BIC:               </th> <td>3.535e+04</td>\n",
       "</tr>\n",
       "<tr>\n",
       "  <th>Df Model:</th>              <td>    18</td>      <th>                     </th>     <td> </td>    \n",
       "</tr>\n",
       "<tr>\n",
       "  <th>Covariance Type:</th>      <td>nonrobust</td>    <th>                     </th>     <td> </td>    \n",
       "</tr>\n",
       "</table>\n",
       "<table class=\"simpletable\">\n",
       "<tr>\n",
       "        <td></td>          <th>coef</th>     <th>std err</th>      <th>t</th>      <th>P>|t|</th>  <th>[0.025</th>    <th>0.975]</th>  \n",
       "</tr>\n",
       "<tr>\n",
       "  <th>const</th>        <td>-2.334e+04</td> <td> 5593.692</td> <td>   -4.172</td> <td> 0.000</td> <td>-3.43e+04</td> <td>-1.24e+04</td>\n",
       "</tr>\n",
       "<tr>\n",
       "  <th>LotArea</th>      <td>    0.1269</td> <td>    0.119</td> <td>    1.065</td> <td> 0.287</td> <td>   -0.107</td> <td>    0.361</td>\n",
       "</tr>\n",
       "<tr>\n",
       "  <th>MasVnrArea</th>   <td>   45.0127</td> <td>    7.011</td> <td>    6.420</td> <td> 0.000</td> <td>   31.259</td> <td>   58.766</td>\n",
       "</tr>\n",
       "<tr>\n",
       "  <th>TotalBsmtSF</th>  <td>   39.5080</td> <td>    4.645</td> <td>    8.505</td> <td> 0.000</td> <td>   30.395</td> <td>   48.621</td>\n",
       "</tr>\n",
       "<tr>\n",
       "  <th>1stFlrSF</th>     <td>   27.4115</td> <td>   23.987</td> <td>    1.143</td> <td> 0.253</td> <td>  -19.642</td> <td>   74.465</td>\n",
       "</tr>\n",
       "<tr>\n",
       "  <th>2ndFlrSF</th>     <td>   28.4283</td> <td>   23.793</td> <td>    1.195</td> <td> 0.232</td> <td>  -18.245</td> <td>   75.101</td>\n",
       "</tr>\n",
       "<tr>\n",
       "  <th>GrLivArea</th>    <td>   18.1001</td> <td>   23.323</td> <td>    0.776</td> <td> 0.438</td> <td>  -27.650</td> <td>   63.850</td>\n",
       "</tr>\n",
       "<tr>\n",
       "  <th>BsmtFullBath</th> <td> 1.371e+04</td> <td> 2362.838</td> <td>    5.803</td> <td> 0.000</td> <td> 9077.201</td> <td> 1.83e+04</td>\n",
       "</tr>\n",
       "<tr>\n",
       "  <th>BsmtHalfBath</th> <td> 2090.7461</td> <td> 4720.202</td> <td>    0.443</td> <td> 0.658</td> <td>-7168.457</td> <td> 1.13e+04</td>\n",
       "</tr>\n",
       "<tr>\n",
       "  <th>FullBath</th>     <td> 1.885e+04</td> <td> 2851.174</td> <td>    6.612</td> <td> 0.000</td> <td> 1.33e+04</td> <td> 2.44e+04</td>\n",
       "</tr>\n",
       "<tr>\n",
       "  <th>HalfBath</th>     <td> 8977.0091</td> <td> 2962.665</td> <td>    3.030</td> <td> 0.002</td> <td> 3165.411</td> <td> 1.48e+04</td>\n",
       "</tr>\n",
       "<tr>\n",
       "  <th>TotRmsAbvGrd</th> <td>-1469.5482</td> <td> 1244.237</td> <td>   -1.181</td> <td> 0.238</td> <td>-3910.259</td> <td>  971.162</td>\n",
       "</tr>\n",
       "<tr>\n",
       "  <th>Fireplaces</th>   <td> 1.012e+04</td> <td> 2059.654</td> <td>    4.915</td> <td> 0.000</td> <td> 6083.490</td> <td> 1.42e+04</td>\n",
       "</tr>\n",
       "<tr>\n",
       "  <th>GarageCars</th>   <td> 2.212e+04</td> <td> 3343.915</td> <td>    6.616</td> <td> 0.000</td> <td> 1.56e+04</td> <td> 2.87e+04</td>\n",
       "</tr>\n",
       "<tr>\n",
       "  <th>GarageArea</th>   <td>   13.5247</td> <td>   11.616</td> <td>    1.164</td> <td> 0.244</td> <td>   -9.262</td> <td>   36.311</td>\n",
       "</tr>\n",
       "<tr>\n",
       "  <th>WoodDeckSF</th>   <td>   43.0176</td> <td>    9.454</td> <td>    4.550</td> <td> 0.000</td> <td>   24.472</td> <td>   61.563</td>\n",
       "</tr>\n",
       "<tr>\n",
       "  <th>OpenPorchSF</th>  <td>   37.7044</td> <td>   18.077</td> <td>    2.086</td> <td> 0.037</td> <td>    2.244</td> <td>   73.165</td>\n",
       "</tr>\n",
       "<tr>\n",
       "  <th>ScreenPorch</th>  <td>   40.5521</td> <td>   20.373</td> <td>    1.991</td> <td> 0.047</td> <td>    0.589</td> <td>   80.515</td>\n",
       "</tr>\n",
       "<tr>\n",
       "  <th>PoolArea</th>     <td>  -44.1888</td> <td>   28.283</td> <td>   -1.562</td> <td> 0.118</td> <td>  -99.669</td> <td>   11.291</td>\n",
       "</tr>\n",
       "</table>\n",
       "<table class=\"simpletable\">\n",
       "<tr>\n",
       "  <th>Omnibus:</th>       <td>459.373</td> <th>  Durbin-Watson:     </th> <td>   1.935</td> \n",
       "</tr>\n",
       "<tr>\n",
       "  <th>Prob(Omnibus):</th> <td> 0.000</td>  <th>  Jarque-Bera (JB):  </th> <td>35127.567</td>\n",
       "</tr>\n",
       "<tr>\n",
       "  <th>Skew:</th>          <td>-0.520</td>  <th>  Prob(JB):          </th> <td>    0.00</td> \n",
       "</tr>\n",
       "<tr>\n",
       "  <th>Kurtosis:</th>      <td>27.007</td>  <th>  Cond. No.          </th> <td>7.71e+04</td> \n",
       "</tr>\n",
       "</table><br/><br/>Warnings:<br/>[1] Standard Errors assume that the covariance matrix of the errors is correctly specified.<br/>[2] The condition number is large, 7.71e+04. This might indicate that there are<br/>strong multicollinearity or other numerical problems."
      ],
      "text/plain": [
       "<class 'statsmodels.iolib.summary.Summary'>\n",
       "\"\"\"\n",
       "                            OLS Regression Results                            \n",
       "==============================================================================\n",
       "Dep. Variable:                      y   R-squared:                       0.723\n",
       "Model:                            OLS   Adj. R-squared:                  0.720\n",
       "Method:                 Least Squares   F-statistic:                     209.2\n",
       "Date:                Tue, 26 Oct 2021   Prob (F-statistic):               0.00\n",
       "Time:                        11:52:50   Log-Likelihood:                -17606.\n",
       "No. Observations:                1460   AIC:                         3.525e+04\n",
       "Df Residuals:                    1441   BIC:                         3.535e+04\n",
       "Df Model:                          18                                         \n",
       "Covariance Type:            nonrobust                                         \n",
       "================================================================================\n",
       "                   coef    std err          t      P>|t|      [0.025      0.975]\n",
       "--------------------------------------------------------------------------------\n",
       "const        -2.334e+04   5593.692     -4.172      0.000   -3.43e+04   -1.24e+04\n",
       "LotArea          0.1269      0.119      1.065      0.287      -0.107       0.361\n",
       "MasVnrArea      45.0127      7.011      6.420      0.000      31.259      58.766\n",
       "TotalBsmtSF     39.5080      4.645      8.505      0.000      30.395      48.621\n",
       "1stFlrSF        27.4115     23.987      1.143      0.253     -19.642      74.465\n",
       "2ndFlrSF        28.4283     23.793      1.195      0.232     -18.245      75.101\n",
       "GrLivArea       18.1001     23.323      0.776      0.438     -27.650      63.850\n",
       "BsmtFullBath  1.371e+04   2362.838      5.803      0.000    9077.201    1.83e+04\n",
       "BsmtHalfBath  2090.7461   4720.202      0.443      0.658   -7168.457    1.13e+04\n",
       "FullBath      1.885e+04   2851.174      6.612      0.000    1.33e+04    2.44e+04\n",
       "HalfBath      8977.0091   2962.665      3.030      0.002    3165.411    1.48e+04\n",
       "TotRmsAbvGrd -1469.5482   1244.237     -1.181      0.238   -3910.259     971.162\n",
       "Fireplaces    1.012e+04   2059.654      4.915      0.000    6083.490    1.42e+04\n",
       "GarageCars    2.212e+04   3343.915      6.616      0.000    1.56e+04    2.87e+04\n",
       "GarageArea      13.5247     11.616      1.164      0.244      -9.262      36.311\n",
       "WoodDeckSF      43.0176      9.454      4.550      0.000      24.472      61.563\n",
       "OpenPorchSF     37.7044     18.077      2.086      0.037       2.244      73.165\n",
       "ScreenPorch     40.5521     20.373      1.991      0.047       0.589      80.515\n",
       "PoolArea       -44.1888     28.283     -1.562      0.118     -99.669      11.291\n",
       "==============================================================================\n",
       "Omnibus:                      459.373   Durbin-Watson:                   1.935\n",
       "Prob(Omnibus):                  0.000   Jarque-Bera (JB):            35127.567\n",
       "Skew:                          -0.520   Prob(JB):                         0.00\n",
       "Kurtosis:                      27.007   Cond. No.                     7.71e+04\n",
       "==============================================================================\n",
       "\n",
       "Warnings:\n",
       "[1] Standard Errors assume that the covariance matrix of the errors is correctly specified.\n",
       "[2] The condition number is large, 7.71e+04. This might indicate that there are\n",
       "strong multicollinearity or other numerical problems.\n",
       "\"\"\""
      ]
     },
     "execution_count": 35,
     "metadata": {},
     "output_type": "execute_result"
    }
   ],
   "source": [
    "# Gerando número de observações e variáveis\n",
    "observations_v2 = len(df_cont_v2)\n",
    "variables_v2 = df_cont_v2.columns[:-1]\n",
    "\n",
    "# Coletando x e y\n",
    "X_v2 = df_cont_v2.iloc[:,:-1]\n",
    "y_v2 = df_cont_v2['SalePrice'].values\n",
    "\n",
    "Xc_v2 = sm.add_constant(X_v2)\n",
    "modelo_v2 = sm.OLS(y_v2, Xc_v2)\n",
    "modelo_v2 = modelo_v2.fit()\n",
    "\n",
    "modelo_v2.summary()"
   ]
  },
  {
   "cell_type": "markdown",
   "metadata": {},
   "source": [
    "## Gradient Descent "
   ]
  },
  {
   "cell_type": "markdown",
   "metadata": {},
   "source": [
    "#### Feature Scaling"
   ]
  },
  {
   "cell_type": "code",
   "execution_count": 36,
   "metadata": {},
   "outputs": [],
   "source": [
    "# Gerando os dados\n",
    "observations = len(df_cont_v2)\n",
    "variables = df_cont_v2.columns"
   ]
  },
  {
   "cell_type": "code",
   "execution_count": 37,
   "metadata": {},
   "outputs": [],
   "source": [
    "# Aplicando Padronização\n",
    "Xst = standardization.fit_transform(X_v2)\n",
    "original_means = standardization.mean_\n",
    "originanal_stds = standardization.scale_"
   ]
  },
  {
   "cell_type": "code",
   "execution_count": 38,
   "metadata": {},
   "outputs": [],
   "source": [
    "# Gerando X e Y\n",
    "Xst = np.column_stack((Xst,np.ones(observations)))\n",
    "y_v2  = df_cont_v2['SalePrice'].values"
   ]
  },
  {
   "cell_type": "code",
   "execution_count": 39,
   "metadata": {},
   "outputs": [],
   "source": [
    "import random\n",
    "import numpy as np\n",
    "\n",
    "def random_w( p ):\n",
    "    return np.array([np.random.normal() for j in range(p)])\n",
    "\n",
    "def hypothesis(X,w):\n",
    "    return np.dot(X,w)\n",
    "\n",
    "def loss(X,w,y):\n",
    "    return hypothesis(X,w) - y\n",
    "\n",
    "def squared_loss(X,w,y):\n",
    "    return loss(X,w,y)**2\n",
    "\n",
    "def gradient(X,w,y):\n",
    "    gradients = list()\n",
    "    n = float(len( y ))\n",
    "    for j in range(len(w)):\n",
    "        gradients.append(np.sum(loss(X,w,y) * X[:,j]) / n)\n",
    "    return gradients\n",
    "\n",
    "def update(X,w,y, alpha = 0.01):\n",
    "    return [t - alpha*g for t, g in zip(w, gradient(X,w,y))]\n",
    "\n",
    "def optimize(X,y, alpha = 0.01, eta = 10**-12, iterations = 1000):\n",
    "    w = random_w(X.shape[1])\n",
    "    path = list()\n",
    "    for k in range(iterations):\n",
    "        SSL = np.sum(squared_loss(X,w,y))\n",
    "        new_w = update(X,w,y, alpha = alpha)\n",
    "        new_SSL = np.sum(squared_loss(X,new_w,y))\n",
    "        w = new_w\n",
    "        if k>=5 and (new_SSL - SSL <= eta and new_SSL - SSL >= -eta):\n",
    "            path.append(new_SSL)\n",
    "            return w, path\n",
    "        if k % (iterations / 20) == 0:\n",
    "            path.append(new_SSL)\n",
    "    return w, path                       "
   ]
  },
  {
   "cell_type": "code",
   "execution_count": 40,
   "metadata": {},
   "outputs": [
    {
     "name": "stdout",
     "output_type": "stream",
     "text": [
      "Coeficientes finais padronizados: 1266.2821, 8125.7831, 17326.9302, 10517.8034, 12320.1666, 9608.8010, 7113.1097, 499.0635, 10383.7875, 4513.8588, -2389.1045, 6524.6723, 16527.9438, 2890.3601, 5390.0051, 2497.1431, 2260.0580, -1775.1347, 180921.1959\n"
     ]
    }
   ],
   "source": [
    "# Imprimindo o resultado                           \n",
    "alpha = 0.01\n",
    "w, path = optimize(Xst, y_v2, alpha, eta = 10**-12, iterations = 100000)\n",
    "print (\"Coeficientes finais padronizados: \" + ', '.join(map(lambda x: \"%0.4f\" % x, w)))     "
   ]
  },
  {
   "cell_type": "code",
   "execution_count": 41,
   "metadata": {},
   "outputs": [],
   "source": [
    "# Desfazendo a Padronização\n",
    "unstandardized_betas = w[:-1] / originanal_stds\n",
    "unstandardized_bias  = w[-1]-np.sum((original_means / originanal_stds) * w[:-1])"
   ]
  },
  {
   "cell_type": "code",
   "execution_count": 42,
   "metadata": {},
   "outputs": [
    {
     "name": "stdout",
     "output_type": "stream",
     "text": [
      "    bias: -23335.4220\n",
      " LotArea:   0.1269\n",
      "MasVnrArea:  45.0164\n",
      "TotalBsmtSF:  39.5091\n",
      "1stFlrSF:  27.2161\n",
      "2ndFlrSF:  28.2327\n",
      "GrLivArea:  18.2920\n",
      "BsmtFullBath: 13712.4715\n",
      "BsmtHalfBath: 2091.0112\n",
      "FullBath: 18854.6877\n",
      "HalfBath: 8978.9951\n",
      "TotRmsAbvGrd: -1470.3660\n",
      "Fireplaces: 10124.4738\n",
      "GarageCars: 22124.0130\n",
      "GarageArea:  13.5233\n",
      "WoodDeckSF:  43.0182\n",
      "OpenPorchSF:  37.7022\n",
      "ScreenPorch:  40.5477\n",
      "PoolArea: -44.1977\n"
     ]
    }
   ],
   "source": [
    "# Imprimindo o resultado\n",
    "print ('%8s: %8.4f' % ('bias', unstandardized_bias))\n",
    "for beta,varname in zip(unstandardized_betas, variables):\n",
    "    print ('%8s: %8.4f' % (varname, beta))"
   ]
  },
  {
   "cell_type": "markdown",
   "metadata": {},
   "source": [
    "Utilizando a técnica de Gradient Descent podemos averiguar que os valores para os coeficientes encontrados pelo Stats Model estão muito próximos."
   ]
  },
  {
   "cell_type": "markdown",
   "metadata": {},
   "source": [
    "## Validação do Modelo e Escolha de Features com Regressão LASSO"
   ]
  },
  {
   "cell_type": "code",
   "execution_count": 43,
   "metadata": {},
   "outputs": [],
   "source": [
    "# Imports\n",
    "import numpy as np \n",
    "import pandas as pd \n",
    "import seaborn as sns\n",
    "import matplotlib\n",
    "import matplotlib.pyplot as plt\n",
    "from scipy.stats import skew\n",
    "from scipy.stats.stats import pearsonr\n",
    "from sklearn.linear_model import LinearRegression, Ridge, LassoCV\n",
    "from sklearn.model_selection import cross_val_score\n",
    "import warnings\n",
    "warnings.filterwarnings(\"ignore\")\n",
    "%matplotlib inline"
   ]
  },
  {
   "cell_type": "code",
   "execution_count": null,
   "metadata": {},
   "outputs": [],
   "source": [
    "# Cria o modelo LASSO\n",
    "modelo_lasso = LassoCV()"
   ]
  },
  {
   "cell_type": "code",
   "execution_count": 65,
   "metadata": {},
   "outputs": [
    {
     "data": {
      "text/plain": [
       "array([-1.35843243e+09, -1.85202256e+09, -1.88468922e+09, -1.48956197e+09,\n",
       "       -3.08760732e+09])"
      ]
     },
     "execution_count": 65,
     "metadata": {},
     "output_type": "execute_result"
    }
   ],
   "source": [
    "# Cross Validation para encontrar os melhores valores dos parâmetros do modelo Lasso\n",
    "cross_val_score(modelo_lasso, \n",
    "                standardization.fit_transform(X), \n",
    "                y, \n",
    "                scoring = \"neg_mean_squared_error\", \n",
    "                cv = 5)"
   ]
  },
  {
   "cell_type": "code",
   "execution_count": 66,
   "metadata": {},
   "outputs": [
    {
     "data": {
      "text/plain": [
       "array([36856.91830836, 43035.131753  , 43413.00744477, 38594.84387994,\n",
       "       55566.24262355])"
      ]
     },
     "execution_count": 66,
     "metadata": {},
     "output_type": "execute_result"
    }
   ],
   "source": [
    "# Calcula o erro do modelo\n",
    "rmse_lasso = np.sqrt(-cross_val_score(modelo_lasso, \n",
    "                                      standardization.fit_transform(X), \n",
    "                                      y, \n",
    "                                      scoring = \"neg_mean_squared_error\", \n",
    "                                      cv = 5))\n",
    "rmse_lasso"
   ]
  },
  {
   "cell_type": "code",
   "execution_count": 68,
   "metadata": {},
   "outputs": [],
   "source": [
    "# Valores de alpha para testar com o modelo Ridge\n",
    "alphas = [1, 0.1, 0.001, 0.0005]"
   ]
  },
  {
   "cell_type": "code",
   "execution_count": 67,
   "metadata": {},
   "outputs": [],
   "source": [
    "# Cria o modelo LASSO\n",
    "modelo_lasso = LassoCV(alphas = [1, 0.1, 0.001, 0.0005]).fit(standardization.fit_transform(X), y)"
   ]
  },
  {
   "cell_type": "code",
   "execution_count": 54,
   "metadata": {},
   "outputs": [
    {
     "data": {
      "text/plain": [
       "LotFrontage       245.209780\n",
       "LotArea          1198.394378\n",
       "MasVnrArea       8129.959334\n",
       "TotalBsmtSF     17351.490863\n",
       "1stFlrSF        15392.448279\n",
       "2ndFlrSF        18031.336782\n",
       "LowQualFinSF      614.984750\n",
       "GrLivArea        2695.016273\n",
       "BsmtFullBath     7123.258295\n",
       "BsmtHalfBath      450.570219\n",
       "FullBath        10348.653550\n",
       "HalfBath         4471.164741\n",
       "TotRmsAbvGrd    -2319.684625\n",
       "Fireplaces       6528.117669\n",
       "GarageCars      16530.756563\n",
       "GarageArea       2831.231831\n",
       "WoodDeckSF       5487.660471\n",
       "OpenPorchSF      2526.592137\n",
       "3SsnPorch        1335.916768\n",
       "ScreenPorch      2317.967864\n",
       "PoolArea        -1788.176448\n",
       "MiscVal           100.321146\n",
       "dtype: float64"
      ]
     },
     "execution_count": 54,
     "metadata": {},
     "output_type": "execute_result"
    }
   ],
   "source": [
    "# Coeficientes LASSO\n",
    "coef = pd.Series(modelo_lasso.coef_, index = df_cont.columns[:-1])\n",
    "coef"
   ]
  },
  {
   "cell_type": "code",
   "execution_count": 61,
   "metadata": {},
   "outputs": [
    {
     "data": {
      "text/plain": [
       "Text(0.5, 1.0, 'Coeficientes no Modelo LASSO')"
      ]
     },
     "execution_count": 61,
     "metadata": {},
     "output_type": "execute_result"
    },
    {
     "data": {
      "image/png": "[encoded data removed]",
      "text/plain": [
       "<Figure size 576x720 with 1 Axes>"
      ]
     },
     "metadata": {
      "needs_background": "light"
     },
     "output_type": "display_data"
    }
   ],
   "source": [
    "# Coeficientes LASSO mais relevantes e menos relevantes para o modelo\n",
    "imp_coef = pd.concat([coef.sort_values().head(10), coef.sort_values().tail(10)])\n",
    "mpl.rcParams['figure.figsize'] = (8.0, 10.0)\n",
    "imp_coef.plot(kind = \"barh\")\n",
    "plt.title(\"Coeficientes no Modelo LASSO\")"
   ]
  }
 ],
 "metadata": {
  "kernelspec": {
   "display_name": "Python 3",
   "language": "python",
   "name": "python3"
  },
  "language_info": {
   "codemirror_mode": {
    "name": "ipython",
    "version": 3
   },
   "file_extension": ".py",
   "mimetype": "text/x-python",
   "name": "python",
   "nbconvert_exporter": "python",
   "pygments_lexer": "ipython3",
   "version": "3.7.3"
  }
 },
 "nbformat": 4,
 "nbformat_minor": 2
}
